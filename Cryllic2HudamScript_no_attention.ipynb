{
  "cells": [
    {
      "cell_type": "markdown",
      "metadata": {
        "id": "view-in-github",
        "colab_type": "text"
      },
      "source": [
        "<a href=\"https://colab.research.google.com/github/sainaaBL3SSyou/Cryllic2Script/blob/main/Cryllic2HudamScript_no_attention.ipynb\" target=\"_parent\"><img src=\"https://colab.research.google.com/assets/colab-badge.svg\" alt=\"Open In Colab\"/></a>"
      ]
    },
    {
      "cell_type": "code",
      "execution_count": 1,
      "metadata": {
        "id": "TiGOD9lyRLmw"
      },
      "outputs": [],
      "source": [
        "import io\n",
        "import json\n",
        "import numpy as np\n",
        "import pandas as pd\n",
        "import random\n",
        "import re\n",
        "import tensorflow as tf\n",
        "import unicodedata\n",
        "\n",
        "# from google.colab import files\n",
        "from tensorflow.keras import layers\n",
        "from tensorflow.keras.preprocessing.sequence import pad_sequences\n"
      ]
    },
    {
      "cell_type": "code",
      "execution_count": 2,
      "metadata": {
        "colab": {
          "base_uri": "https://localhost:8080/",
          "height": 206
        },
        "id": "UAFcdKZbaPHB",
        "outputId": "cbcb6f31-af08-4c5f-fd47-3de9a95d1b54"
      },
      "outputs": [
        {
          "output_type": "execute_result",
          "data": {
            "text/plain": [
              "                                    TOLGOI_UG  \\\n",
              "0                                           А   \n",
              "1                        аравдугаар зүйлийн а   \n",
              "2                                тавын а анги   \n",
              "3  а үсэг эрдмийн дээж, аяга цай идээний дээж   \n",
              "4      а гэж эрдэм сурдаг, аав гэж хэлд ордог   \n",
              "\n",
              "                                     TOLGOI_UG_HUDAM  \n",
              "0                                                  ᠠ  \n",
              "1                                ᠠᠷᠪᠠᠳᠤᠭᠠᠷ ᠵᠦᠢᠯ ᠤᠨ ᠡ  \n",
              "2                                  ᠲᠠᠪᠤ ᠢᠢᠨ ᠡ ᠠᠨᠭ᠍ᠭᠢ  \n",
              "3  ᠡ ᠦᠰᠦᠭ ᠡᠷᠳᠡᠮ ᠤᠨ ᠳᠡᠭᠡᠵᠢ, ᠠᠶᠠᠭ᠎ᠠ ᠴᠠᠢ ᠢᠳᠡᠭᠡᠨ ᠦ ᠳᠡ...  \n",
              "4       ᠡ ᠭᠡᠵᠦ ᠡᠷᠳᠡᠮ ᠰᠤᠷᠳᠠᠭ, ᠠᠪᠤ ᠭᠡᠵᠦ ᠬᠡᠯᠡ ᠳᠤ ᠣᠷᠤᠳᠠᠭ  "
            ],
            "text/html": [
              "\n",
              "\n",
              "  <div id=\"df-da0aea22-fdf5-46e1-8914-507231d0d0df\">\n",
              "    <div class=\"colab-df-container\">\n",
              "      <div>\n",
              "<style scoped>\n",
              "    .dataframe tbody tr th:only-of-type {\n",
              "        vertical-align: middle;\n",
              "    }\n",
              "\n",
              "    .dataframe tbody tr th {\n",
              "        vertical-align: top;\n",
              "    }\n",
              "\n",
              "    .dataframe thead th {\n",
              "        text-align: right;\n",
              "    }\n",
              "</style>\n",
              "<table border=\"1\" class=\"dataframe\">\n",
              "  <thead>\n",
              "    <tr style=\"text-align: right;\">\n",
              "      <th></th>\n",
              "      <th>TOLGOI_UG</th>\n",
              "      <th>TOLGOI_UG_HUDAM</th>\n",
              "    </tr>\n",
              "  </thead>\n",
              "  <tbody>\n",
              "    <tr>\n",
              "      <th>0</th>\n",
              "      <td>А</td>\n",
              "      <td>ᠠ</td>\n",
              "    </tr>\n",
              "    <tr>\n",
              "      <th>1</th>\n",
              "      <td>аравдугаар зүйлийн а</td>\n",
              "      <td>ᠠᠷᠪᠠᠳᠤᠭᠠᠷ ᠵᠦᠢᠯ ᠤᠨ ᠡ</td>\n",
              "    </tr>\n",
              "    <tr>\n",
              "      <th>2</th>\n",
              "      <td>тавын а анги</td>\n",
              "      <td>ᠲᠠᠪᠤ ᠢᠢᠨ ᠡ ᠠᠨᠭ᠍ᠭᠢ</td>\n",
              "    </tr>\n",
              "    <tr>\n",
              "      <th>3</th>\n",
              "      <td>а үсэг эрдмийн дээж, аяга цай идээний дээж</td>\n",
              "      <td>ᠡ ᠦᠰᠦᠭ ᠡᠷᠳᠡᠮ ᠤᠨ ᠳᠡᠭᠡᠵᠢ, ᠠᠶᠠᠭ᠎ᠠ ᠴᠠᠢ ᠢᠳᠡᠭᠡᠨ ᠦ ᠳᠡ...</td>\n",
              "    </tr>\n",
              "    <tr>\n",
              "      <th>4</th>\n",
              "      <td>а гэж эрдэм сурдаг, аав гэж хэлд ордог</td>\n",
              "      <td>ᠡ ᠭᠡᠵᠦ ᠡᠷᠳᠡᠮ ᠰᠤᠷᠳᠠᠭ, ᠠᠪᠤ ᠭᠡᠵᠦ ᠬᠡᠯᠡ ᠳᠤ ᠣᠷᠤᠳᠠᠭ</td>\n",
              "    </tr>\n",
              "  </tbody>\n",
              "</table>\n",
              "</div>\n",
              "      <button class=\"colab-df-convert\" onclick=\"convertToInteractive('df-da0aea22-fdf5-46e1-8914-507231d0d0df')\"\n",
              "              title=\"Convert this dataframe to an interactive table.\"\n",
              "              style=\"display:none;\">\n",
              "\n",
              "  <svg xmlns=\"http://www.w3.org/2000/svg\" height=\"24px\"viewBox=\"0 0 24 24\"\n",
              "       width=\"24px\">\n",
              "    <path d=\"M0 0h24v24H0V0z\" fill=\"none\"/>\n",
              "    <path d=\"M18.56 5.44l.94 2.06.94-2.06 2.06-.94-2.06-.94-.94-2.06-.94 2.06-2.06.94zm-11 1L8.5 8.5l.94-2.06 2.06-.94-2.06-.94L8.5 2.5l-.94 2.06-2.06.94zm10 10l.94 2.06.94-2.06 2.06-.94-2.06-.94-.94-2.06-.94 2.06-2.06.94z\"/><path d=\"M17.41 7.96l-1.37-1.37c-.4-.4-.92-.59-1.43-.59-.52 0-1.04.2-1.43.59L10.3 9.45l-7.72 7.72c-.78.78-.78 2.05 0 2.83L4 21.41c.39.39.9.59 1.41.59.51 0 1.02-.2 1.41-.59l7.78-7.78 2.81-2.81c.8-.78.8-2.07 0-2.86zM5.41 20L4 18.59l7.72-7.72 1.47 1.35L5.41 20z\"/>\n",
              "  </svg>\n",
              "      </button>\n",
              "\n",
              "\n",
              "\n",
              "    <div id=\"df-a578a1e3-2a6b-455d-a97f-5da55f91f04b\">\n",
              "      <button class=\"colab-df-quickchart\" onclick=\"quickchart('df-a578a1e3-2a6b-455d-a97f-5da55f91f04b')\"\n",
              "              title=\"Suggest charts.\"\n",
              "              style=\"display:none;\">\n",
              "\n",
              "<svg xmlns=\"http://www.w3.org/2000/svg\" height=\"24px\"viewBox=\"0 0 24 24\"\n",
              "     width=\"24px\">\n",
              "    <g>\n",
              "        <path d=\"M19 3H5c-1.1 0-2 .9-2 2v14c0 1.1.9 2 2 2h14c1.1 0 2-.9 2-2V5c0-1.1-.9-2-2-2zM9 17H7v-7h2v7zm4 0h-2V7h2v10zm4 0h-2v-4h2v4z\"/>\n",
              "    </g>\n",
              "</svg>\n",
              "      </button>\n",
              "    </div>\n",
              "\n",
              "<style>\n",
              "  .colab-df-quickchart {\n",
              "    background-color: #E8F0FE;\n",
              "    border: none;\n",
              "    border-radius: 50%;\n",
              "    cursor: pointer;\n",
              "    display: none;\n",
              "    fill: #1967D2;\n",
              "    height: 32px;\n",
              "    padding: 0 0 0 0;\n",
              "    width: 32px;\n",
              "  }\n",
              "\n",
              "  .colab-df-quickchart:hover {\n",
              "    background-color: #E2EBFA;\n",
              "    box-shadow: 0px 1px 2px rgba(60, 64, 67, 0.3), 0px 1px 3px 1px rgba(60, 64, 67, 0.15);\n",
              "    fill: #174EA6;\n",
              "  }\n",
              "\n",
              "  [theme=dark] .colab-df-quickchart {\n",
              "    background-color: #3B4455;\n",
              "    fill: #D2E3FC;\n",
              "  }\n",
              "\n",
              "  [theme=dark] .colab-df-quickchart:hover {\n",
              "    background-color: #434B5C;\n",
              "    box-shadow: 0px 1px 3px 1px rgba(0, 0, 0, 0.15);\n",
              "    filter: drop-shadow(0px 1px 2px rgba(0, 0, 0, 0.3));\n",
              "    fill: #FFFFFF;\n",
              "  }\n",
              "</style>\n",
              "\n",
              "    <script>\n",
              "      async function quickchart(key) {\n",
              "        const containerElement = document.querySelector('#' + key);\n",
              "        const charts = await google.colab.kernel.invokeFunction(\n",
              "            'suggestCharts', [key], {});\n",
              "      }\n",
              "    </script>\n",
              "\n",
              "      <script>\n",
              "\n",
              "function displayQuickchartButton(domScope) {\n",
              "  let quickchartButtonEl =\n",
              "    domScope.querySelector('#df-a578a1e3-2a6b-455d-a97f-5da55f91f04b button.colab-df-quickchart');\n",
              "  quickchartButtonEl.style.display =\n",
              "    google.colab.kernel.accessAllowed ? 'block' : 'none';\n",
              "}\n",
              "\n",
              "        displayQuickchartButton(document);\n",
              "      </script>\n",
              "      <style>\n",
              "    .colab-df-container {\n",
              "      display:flex;\n",
              "      flex-wrap:wrap;\n",
              "      gap: 12px;\n",
              "    }\n",
              "\n",
              "    .colab-df-convert {\n",
              "      background-color: #E8F0FE;\n",
              "      border: none;\n",
              "      border-radius: 50%;\n",
              "      cursor: pointer;\n",
              "      display: none;\n",
              "      fill: #1967D2;\n",
              "      height: 32px;\n",
              "      padding: 0 0 0 0;\n",
              "      width: 32px;\n",
              "    }\n",
              "\n",
              "    .colab-df-convert:hover {\n",
              "      background-color: #E2EBFA;\n",
              "      box-shadow: 0px 1px 2px rgba(60, 64, 67, 0.3), 0px 1px 3px 1px rgba(60, 64, 67, 0.15);\n",
              "      fill: #174EA6;\n",
              "    }\n",
              "\n",
              "    [theme=dark] .colab-df-convert {\n",
              "      background-color: #3B4455;\n",
              "      fill: #D2E3FC;\n",
              "    }\n",
              "\n",
              "    [theme=dark] .colab-df-convert:hover {\n",
              "      background-color: #434B5C;\n",
              "      box-shadow: 0px 1px 3px 1px rgba(0, 0, 0, 0.15);\n",
              "      filter: drop-shadow(0px 1px 2px rgba(0, 0, 0, 0.3));\n",
              "      fill: #FFFFFF;\n",
              "    }\n",
              "  </style>\n",
              "\n",
              "      <script>\n",
              "        const buttonEl =\n",
              "          document.querySelector('#df-da0aea22-fdf5-46e1-8914-507231d0d0df button.colab-df-convert');\n",
              "        buttonEl.style.display =\n",
              "          google.colab.kernel.accessAllowed ? 'block' : 'none';\n",
              "\n",
              "        async function convertToInteractive(key) {\n",
              "          const element = document.querySelector('#df-da0aea22-fdf5-46e1-8914-507231d0d0df');\n",
              "          const dataTable =\n",
              "            await google.colab.kernel.invokeFunction('convertToInteractive',\n",
              "                                                     [key], {});\n",
              "          if (!dataTable) return;\n",
              "\n",
              "          const docLinkHtml = 'Like what you see? Visit the ' +\n",
              "            '<a target=\"_blank\" href=https://colab.research.google.com/notebooks/data_table.ipynb>data table notebook</a>'\n",
              "            + ' to learn more about interactive tables.';\n",
              "          element.innerHTML = '';\n",
              "          dataTable['output_type'] = 'display_data';\n",
              "          await google.colab.output.renderOutput(dataTable, element);\n",
              "          const docLink = document.createElement('div');\n",
              "          docLink.innerHTML = docLinkHtml;\n",
              "          element.appendChild(docLink);\n",
              "        }\n",
              "      </script>\n",
              "    </div>\n",
              "  </div>\n"
            ]
          },
          "metadata": {},
          "execution_count": 2
        }
      ],
      "source": [
        "my_data = pd.read_csv('/content/toli_data.csv')\n",
        "my_data.head()"
      ]
    },
    {
      "cell_type": "code",
      "execution_count": 3,
      "metadata": {
        "colab": {
          "base_uri": "https://localhost:8080/"
        },
        "id": "tKhcJFqCjRMy",
        "outputId": "e19304cd-16ad-4074-d156-b7b3b456879c"
      },
      "outputs": [
        {
          "output_type": "execute_result",
          "data": {
            "text/plain": [
              "135002"
            ]
          },
          "metadata": {},
          "execution_count": 3
        }
      ],
      "source": [
        "len(my_data)"
      ]
    },
    {
      "cell_type": "markdown",
      "metadata": {
        "id": "3Rx5U9dQjRMz"
      },
      "source": [
        "#### Давхардсан утгуудыг хасна"
      ]
    },
    {
      "cell_type": "code",
      "execution_count": 4,
      "metadata": {
        "colab": {
          "base_uri": "https://localhost:8080/"
        },
        "id": "n_UBW4xMjRMz",
        "outputId": "70a87dcf-ce72-40fd-b507-d320b003af2f"
      },
      "outputs": [
        {
          "output_type": "execute_result",
          "data": {
            "text/plain": [
              "125575"
            ]
          },
          "metadata": {},
          "execution_count": 4
        }
      ],
      "source": [
        "my_data = my_data.drop_duplicates()\n",
        "len(my_data)"
      ]
    },
    {
      "cell_type": "markdown",
      "metadata": {
        "id": "895AszF4jRMz"
      },
      "source": [
        "#### Хоосон утгуудыг хасна"
      ]
    },
    {
      "cell_type": "code",
      "execution_count": 5,
      "metadata": {
        "colab": {
          "base_uri": "https://localhost:8080/"
        },
        "id": "AQoQQprnjRM0",
        "outputId": "65a52a1e-df7a-4296-e6b0-cffeef2e71be"
      },
      "outputs": [
        {
          "output_type": "execute_result",
          "data": {
            "text/plain": [
              "125574"
            ]
          },
          "metadata": {},
          "execution_count": 5
        }
      ],
      "source": [
        "my_data = my_data.dropna()\n",
        "len(my_data)"
      ]
    },
    {
      "cell_type": "code",
      "source": [
        "test_data = my_data[-1000:]\n",
        "my_data = my_data[:-1000]\n",
        "len(test_data), len(my_data)"
      ],
      "metadata": {
        "colab": {
          "base_uri": "https://localhost:8080/"
        },
        "id": "8PZZAhqIJ1io",
        "outputId": "47da9ff8-82e0-490a-9a53-61d74f010b26"
      },
      "execution_count": 6,
      "outputs": [
        {
          "output_type": "execute_result",
          "data": {
            "text/plain": [
              "(1000, 124574)"
            ]
          },
          "metadata": {},
          "execution_count": 6
        }
      ]
    },
    {
      "cell_type": "code",
      "source": [
        "test_data.head()"
      ],
      "metadata": {
        "colab": {
          "base_uri": "https://localhost:8080/",
          "height": 206
        },
        "id": "6U48uNe4QlUw",
        "outputId": "844adaa5-262c-4776-8733-55020c556c60"
      },
      "execution_count": 7,
      "outputs": [
        {
          "output_type": "execute_result",
          "data": {
            "text/plain": [
              "         TOLGOI_UG TOLGOI_UG_HUDAM\n",
              "133939       ХИМЭГ          ᠬᠢᠮᠡᠭ \n",
              "133940     ХИРЧХЭН      ᠬᠢᠷᠢᠴᠢᠬᠡᠨ \n",
              "133941     ШАГДАЙХ       ᠰᠢᠭᠳᠠᠶᠢᠬᠤ\n",
              "133942     ШАЛИХАЙ         ᠱᠠᠯᠢᠬᠠᠢ\n",
              "133943  ШАЛИХАЙРАХ    ᠱᠠᠯᠢᠬᠠᠶᠢᠷᠠᠬᠤ"
            ],
            "text/html": [
              "\n",
              "\n",
              "  <div id=\"df-94ddd9ef-47aa-45df-8156-d603b1088cdb\">\n",
              "    <div class=\"colab-df-container\">\n",
              "      <div>\n",
              "<style scoped>\n",
              "    .dataframe tbody tr th:only-of-type {\n",
              "        vertical-align: middle;\n",
              "    }\n",
              "\n",
              "    .dataframe tbody tr th {\n",
              "        vertical-align: top;\n",
              "    }\n",
              "\n",
              "    .dataframe thead th {\n",
              "        text-align: right;\n",
              "    }\n",
              "</style>\n",
              "<table border=\"1\" class=\"dataframe\">\n",
              "  <thead>\n",
              "    <tr style=\"text-align: right;\">\n",
              "      <th></th>\n",
              "      <th>TOLGOI_UG</th>\n",
              "      <th>TOLGOI_UG_HUDAM</th>\n",
              "    </tr>\n",
              "  </thead>\n",
              "  <tbody>\n",
              "    <tr>\n",
              "      <th>133939</th>\n",
              "      <td>ХИМЭГ</td>\n",
              "      <td>ᠬᠢᠮᠡᠭ</td>\n",
              "    </tr>\n",
              "    <tr>\n",
              "      <th>133940</th>\n",
              "      <td>ХИРЧХЭН</td>\n",
              "      <td>ᠬᠢᠷᠢᠴᠢᠬᠡᠨ</td>\n",
              "    </tr>\n",
              "    <tr>\n",
              "      <th>133941</th>\n",
              "      <td>ШАГДАЙХ</td>\n",
              "      <td>ᠰᠢᠭᠳᠠᠶᠢᠬᠤ</td>\n",
              "    </tr>\n",
              "    <tr>\n",
              "      <th>133942</th>\n",
              "      <td>ШАЛИХАЙ</td>\n",
              "      <td>ᠱᠠᠯᠢᠬᠠᠢ</td>\n",
              "    </tr>\n",
              "    <tr>\n",
              "      <th>133943</th>\n",
              "      <td>ШАЛИХАЙРАХ</td>\n",
              "      <td>ᠱᠠᠯᠢᠬᠠᠶᠢᠷᠠᠬᠤ</td>\n",
              "    </tr>\n",
              "  </tbody>\n",
              "</table>\n",
              "</div>\n",
              "      <button class=\"colab-df-convert\" onclick=\"convertToInteractive('df-94ddd9ef-47aa-45df-8156-d603b1088cdb')\"\n",
              "              title=\"Convert this dataframe to an interactive table.\"\n",
              "              style=\"display:none;\">\n",
              "\n",
              "  <svg xmlns=\"http://www.w3.org/2000/svg\" height=\"24px\"viewBox=\"0 0 24 24\"\n",
              "       width=\"24px\">\n",
              "    <path d=\"M0 0h24v24H0V0z\" fill=\"none\"/>\n",
              "    <path d=\"M18.56 5.44l.94 2.06.94-2.06 2.06-.94-2.06-.94-.94-2.06-.94 2.06-2.06.94zm-11 1L8.5 8.5l.94-2.06 2.06-.94-2.06-.94L8.5 2.5l-.94 2.06-2.06.94zm10 10l.94 2.06.94-2.06 2.06-.94-2.06-.94-.94-2.06-.94 2.06-2.06.94z\"/><path d=\"M17.41 7.96l-1.37-1.37c-.4-.4-.92-.59-1.43-.59-.52 0-1.04.2-1.43.59L10.3 9.45l-7.72 7.72c-.78.78-.78 2.05 0 2.83L4 21.41c.39.39.9.59 1.41.59.51 0 1.02-.2 1.41-.59l7.78-7.78 2.81-2.81c.8-.78.8-2.07 0-2.86zM5.41 20L4 18.59l7.72-7.72 1.47 1.35L5.41 20z\"/>\n",
              "  </svg>\n",
              "      </button>\n",
              "\n",
              "\n",
              "\n",
              "    <div id=\"df-4d5fd7e3-b446-4679-be83-debf028d7022\">\n",
              "      <button class=\"colab-df-quickchart\" onclick=\"quickchart('df-4d5fd7e3-b446-4679-be83-debf028d7022')\"\n",
              "              title=\"Suggest charts.\"\n",
              "              style=\"display:none;\">\n",
              "\n",
              "<svg xmlns=\"http://www.w3.org/2000/svg\" height=\"24px\"viewBox=\"0 0 24 24\"\n",
              "     width=\"24px\">\n",
              "    <g>\n",
              "        <path d=\"M19 3H5c-1.1 0-2 .9-2 2v14c0 1.1.9 2 2 2h14c1.1 0 2-.9 2-2V5c0-1.1-.9-2-2-2zM9 17H7v-7h2v7zm4 0h-2V7h2v10zm4 0h-2v-4h2v4z\"/>\n",
              "    </g>\n",
              "</svg>\n",
              "      </button>\n",
              "    </div>\n",
              "\n",
              "<style>\n",
              "  .colab-df-quickchart {\n",
              "    background-color: #E8F0FE;\n",
              "    border: none;\n",
              "    border-radius: 50%;\n",
              "    cursor: pointer;\n",
              "    display: none;\n",
              "    fill: #1967D2;\n",
              "    height: 32px;\n",
              "    padding: 0 0 0 0;\n",
              "    width: 32px;\n",
              "  }\n",
              "\n",
              "  .colab-df-quickchart:hover {\n",
              "    background-color: #E2EBFA;\n",
              "    box-shadow: 0px 1px 2px rgba(60, 64, 67, 0.3), 0px 1px 3px 1px rgba(60, 64, 67, 0.15);\n",
              "    fill: #174EA6;\n",
              "  }\n",
              "\n",
              "  [theme=dark] .colab-df-quickchart {\n",
              "    background-color: #3B4455;\n",
              "    fill: #D2E3FC;\n",
              "  }\n",
              "\n",
              "  [theme=dark] .colab-df-quickchart:hover {\n",
              "    background-color: #434B5C;\n",
              "    box-shadow: 0px 1px 3px 1px rgba(0, 0, 0, 0.15);\n",
              "    filter: drop-shadow(0px 1px 2px rgba(0, 0, 0, 0.3));\n",
              "    fill: #FFFFFF;\n",
              "  }\n",
              "</style>\n",
              "\n",
              "    <script>\n",
              "      async function quickchart(key) {\n",
              "        const containerElement = document.querySelector('#' + key);\n",
              "        const charts = await google.colab.kernel.invokeFunction(\n",
              "            'suggestCharts', [key], {});\n",
              "      }\n",
              "    </script>\n",
              "\n",
              "      <script>\n",
              "\n",
              "function displayQuickchartButton(domScope) {\n",
              "  let quickchartButtonEl =\n",
              "    domScope.querySelector('#df-4d5fd7e3-b446-4679-be83-debf028d7022 button.colab-df-quickchart');\n",
              "  quickchartButtonEl.style.display =\n",
              "    google.colab.kernel.accessAllowed ? 'block' : 'none';\n",
              "}\n",
              "\n",
              "        displayQuickchartButton(document);\n",
              "      </script>\n",
              "      <style>\n",
              "    .colab-df-container {\n",
              "      display:flex;\n",
              "      flex-wrap:wrap;\n",
              "      gap: 12px;\n",
              "    }\n",
              "\n",
              "    .colab-df-convert {\n",
              "      background-color: #E8F0FE;\n",
              "      border: none;\n",
              "      border-radius: 50%;\n",
              "      cursor: pointer;\n",
              "      display: none;\n",
              "      fill: #1967D2;\n",
              "      height: 32px;\n",
              "      padding: 0 0 0 0;\n",
              "      width: 32px;\n",
              "    }\n",
              "\n",
              "    .colab-df-convert:hover {\n",
              "      background-color: #E2EBFA;\n",
              "      box-shadow: 0px 1px 2px rgba(60, 64, 67, 0.3), 0px 1px 3px 1px rgba(60, 64, 67, 0.15);\n",
              "      fill: #174EA6;\n",
              "    }\n",
              "\n",
              "    [theme=dark] .colab-df-convert {\n",
              "      background-color: #3B4455;\n",
              "      fill: #D2E3FC;\n",
              "    }\n",
              "\n",
              "    [theme=dark] .colab-df-convert:hover {\n",
              "      background-color: #434B5C;\n",
              "      box-shadow: 0px 1px 3px 1px rgba(0, 0, 0, 0.15);\n",
              "      filter: drop-shadow(0px 1px 2px rgba(0, 0, 0, 0.3));\n",
              "      fill: #FFFFFF;\n",
              "    }\n",
              "  </style>\n",
              "\n",
              "      <script>\n",
              "        const buttonEl =\n",
              "          document.querySelector('#df-94ddd9ef-47aa-45df-8156-d603b1088cdb button.colab-df-convert');\n",
              "        buttonEl.style.display =\n",
              "          google.colab.kernel.accessAllowed ? 'block' : 'none';\n",
              "\n",
              "        async function convertToInteractive(key) {\n",
              "          const element = document.querySelector('#df-94ddd9ef-47aa-45df-8156-d603b1088cdb');\n",
              "          const dataTable =\n",
              "            await google.colab.kernel.invokeFunction('convertToInteractive',\n",
              "                                                     [key], {});\n",
              "          if (!dataTable) return;\n",
              "\n",
              "          const docLinkHtml = 'Like what you see? Visit the ' +\n",
              "            '<a target=\"_blank\" href=https://colab.research.google.com/notebooks/data_table.ipynb>data table notebook</a>'\n",
              "            + ' to learn more about interactive tables.';\n",
              "          element.innerHTML = '';\n",
              "          dataTable['output_type'] = 'display_data';\n",
              "          await google.colab.output.renderOutput(dataTable, element);\n",
              "          const docLink = document.createElement('div');\n",
              "          docLink.innerHTML = docLinkHtml;\n",
              "          element.appendChild(docLink);\n",
              "        }\n",
              "      </script>\n",
              "    </div>\n",
              "  </div>\n"
            ]
          },
          "metadata": {},
          "execution_count": 7
        }
      ]
    },
    {
      "cell_type": "code",
      "execution_count": 8,
      "metadata": {
        "id": "9EZ-gu_LjRM0"
      },
      "outputs": [],
      "source": [
        "train_data = my_data[:len(my_data) // 100 * 80]\n",
        "val_data = my_data[len(train_data):]"
      ]
    },
    {
      "cell_type": "code",
      "execution_count": 9,
      "metadata": {
        "colab": {
          "base_uri": "https://localhost:8080/",
          "height": 36
        },
        "id": "FHQfFwIdjRM0",
        "outputId": "4f244b68-43d7-4a46-9538-227c5666154e"
      },
      "outputs": [
        {
          "output_type": "execute_result",
          "data": {
            "text/plain": [
              "'train data size: (99600, 2) val data size (24974, 2)'"
            ],
            "application/vnd.google.colaboratory.intrinsic+json": {
              "type": "string"
            }
          },
          "metadata": {},
          "execution_count": 9
        }
      ],
      "source": [
        "f'train data size: {train_data.shape} val data size {val_data.shape}'"
      ]
    },
    {
      "cell_type": "markdown",
      "metadata": {
        "id": "xQOQg_mkjRM0"
      },
      "source": [
        "#### Сургалтын датаг кирилл болон үндэсний бичгээр ялган листэд оруулах"
      ]
    },
    {
      "cell_type": "code",
      "execution_count": 11,
      "metadata": {
        "colab": {
          "base_uri": "https://localhost:8080/"
        },
        "id": "4D9ALP5ebVUp",
        "outputId": "508ee8bd-2b19-43b6-cbbe-b893bd48a444"
      },
      "outputs": [
        {
          "output_type": "execute_result",
          "data": {
            "text/plain": [
              "(['А', 'аравдугаар зүйлийн а', 'тавын а анги'],\n",
              " ['ᠠ', 'ᠠᠷᠪᠠᠳᠤᠭᠠᠷ ᠵᠦᠢᠯ\\u202fᠤᠨ ᠡ', 'ᠲᠠᠪᠤ\\u202fᠢᠢᠨ ᠡ ᠠᠨᠭ᠍ᠭᠢ'])"
            ]
          },
          "metadata": {},
          "execution_count": 11
        }
      ],
      "source": [
        "input_data = train_data.iloc[:, 0].values.tolist()\n",
        "target_data = train_data.iloc[:, 1].values.tolist()\n",
        "input_data[:3], target_data[:3]"
      ]
    },
    {
      "cell_type": "code",
      "execution_count": 12,
      "metadata": {
        "id": "yPIVPttt0ADQ"
      },
      "outputs": [],
      "source": [
        "target_data_c = target_data.copy()"
      ]
    },
    {
      "cell_type": "code",
      "execution_count": 13,
      "metadata": {
        "id": "0kvIUoiKjRM1"
      },
      "outputs": [],
      "source": [
        "input_data_c = input_data.copy()"
      ]
    },
    {
      "cell_type": "code",
      "execution_count": 14,
      "metadata": {
        "colab": {
          "base_uri": "https://localhost:8080/"
        },
        "id": "_clo_PQZjRM1",
        "outputId": "6edc20d7-58e6-40ed-9e2c-a07f7681a392"
      },
      "outputs": [
        {
          "output_type": "execute_result",
          "data": {
            "text/plain": [
              "(['ᠠ', 'ᠠᠷᠪᠠᠳᠤᠭᠠᠷ ᠵᠦᠢᠯ\\u202fᠤᠨ ᠡ', 'ᠲᠠᠪᠤ\\u202fᠢᠢᠨ ᠡ ᠠᠨᠭ᠍ᠭᠢ'],\n",
              " ['А', 'аравдугаар зүйлийн а', 'тавын а анги'])"
            ]
          },
          "metadata": {},
          "execution_count": 14
        }
      ],
      "source": [
        "target_data_c[:3], input_data_c[:3]"
      ]
    },
    {
      "cell_type": "markdown",
      "metadata": {
        "id": "qMUA67-DjRM1"
      },
      "source": [
        "#### Бүх кирилл үгсийг жижгээр болгох"
      ]
    },
    {
      "cell_type": "code",
      "execution_count": 15,
      "metadata": {
        "id": "fOgsHMbhjRM1"
      },
      "outputs": [],
      "source": [
        "input_data_c = list(map(lambda s: s.lower(), input_data_c))"
      ]
    },
    {
      "cell_type": "code",
      "execution_count": 16,
      "metadata": {
        "colab": {
          "base_uri": "https://localhost:8080/"
        },
        "id": "I3M5Xv8q0n4K",
        "outputId": "1c80ce39-b6ac-4523-af00-be48727f2617"
      },
      "outputs": [
        {
          "output_type": "execute_result",
          "data": {
            "text/plain": [
              "(['ᠠ', 'ᠠᠷᠪᠠᠳᠤᠭᠠᠷ ᠵᠦᠢᠯ\\u202fᠤᠨ ᠡ', 'ᠲᠠᠪᠤ\\u202fᠢᠢᠨ ᠡ ᠠᠨᠭ᠍ᠭᠢ'],\n",
              " ['а', 'аравдугаар зүйлийн а', 'тавын а анги'])"
            ]
          },
          "metadata": {},
          "execution_count": 16
        }
      ],
      "source": [
        "target_data_c[:3], input_data_c[:3]"
      ]
    },
    {
      "cell_type": "markdown",
      "metadata": {
        "id": "qYxa09XhEhGZ"
      },
      "source": [
        "#### sos болон eos нарыг өгүүлбэр бүрт нэмнэ.\n",
        "##### Өгүүлбэрийн цуваа хэзээ эхлэх болон дуусахыг зааж өгөх ёстой. Учир нь модель дараагийн үгсийг таасаар байх ба хэзээ дуусахыг мэдэхгүй"
      ]
    },
    {
      "cell_type": "code",
      "execution_count": 17,
      "metadata": {
        "id": "FqSqQtthEeIF"
      },
      "outputs": [],
      "source": [
        "target_data_c = list(map(lambda s: '<sos>' + s + '<eos>', target_data_c))"
      ]
    },
    {
      "cell_type": "code",
      "execution_count": 142,
      "metadata": {
        "colab": {
          "base_uri": "https://localhost:8080/"
        },
        "id": "ciKs5hZiMHeg",
        "outputId": "a2a15180-2116-49d6-d4a5-ee7723fbc52d"
      },
      "outputs": [
        {
          "output_type": "execute_result",
          "data": {
            "text/plain": [
              "['<sos>ᠠ<eos>',\n",
              " '<sos>ᠠᠷᠪᠠᠳᠤᠭᠠᠷ ᠵᠦᠢᠯ\\u202fᠤᠨ ᠡ<eos>',\n",
              " '<sos>ᠲᠠᠪᠤ\\u202fᠢᠢᠨ ᠡ ᠠᠨᠭ᠍ᠭᠢ<eos>',\n",
              " '<sos>ᠡ ᠦᠰᠦᠭ ᠡᠷᠳᠡᠮ\\u202fᠤᠨ ᠳᠡᠭᠡᠵᠢ, ᠠᠶᠠᠭ\\u180eᠠ ᠴᠠᠢ ᠢᠳᠡᠭᠡᠨ\\u202fᠦ ᠳᠡᠭᠡᠵᠢ<eos>',\n",
              " '<sos>ᠡ ᠭᠡᠵᠦ ᠡᠷᠳᠡᠮ ᠰᠤᠷᠳᠠᠭ, ᠠᠪᠤ ᠭᠡᠵᠦ ᠬᠡᠯᠡ\\u202fᠳᠤ ᠣᠷᠤᠳᠠᠭ<eos>',\n",
              " '<sos>ᠡ ᠦᠭᠡ\\u202fᠢᠢᠨ ᠠᠴᠤᠭ ᠮᠡᠳᠡᠬᠦ ᠦᠭᠡᠢ, ᠠᠷᠪᠠ ᠬᠦᠷᠲᠡᠯ ᠲᠤᠭ᠋\\u202fᠠ ᠮᠡᠳᠡᠬᠦ ᠦᠭᠡᠢ<eos>',\n",
              " '<sos>ᠠ᠂ ᠮᠠ-ᠦᠭᠡᠢ<eos>',\n",
              " '<sos>ᠡ᠂ ᠮᠡ-ᠦᠭᠡᠢ<eos>',\n",
              " '<sos>ᠠᠮᠠᠨ\\u202fᠳᠤ\\u202fᠪᠠᠨ ᠡ-ᠦᠭᠡᠢ, ᠠᠯᠠᠭᠠᠨ\\u202fᠳᠠᠭᠠᠨ ᠫᠠᠳ\\u202fᠦᠭᠡᠢ<eos>',\n",
              " '<sos>ᠠ᠋<eos>']"
            ]
          },
          "metadata": {},
          "execution_count": 142
        }
      ],
      "source": [
        "target_data_c[:10]"
      ]
    },
    {
      "cell_type": "markdown",
      "metadata": {
        "id": "uEx4vGNMtwKs"
      },
      "source": [
        "#### Кирил болон үндэсний бичгийн үгсийг токен болгоно\n"
      ]
    },
    {
      "cell_type": "code",
      "execution_count": null,
      "metadata": {
        "id": "l2qBovvAjRM2"
      },
      "outputs": [],
      "source": [
        "input_tokenizer = tf.keras.preprocessing.text.Tokenizer(\n",
        "    filters='!\"#$%&()*+,-./:;<=>?@[\\\\]^_`{|}~\\t\\n',\n",
        "    oov_token='<unk>'\n",
        ")\n",
        "input_tokenizer.fit_on_texts(input_data_c)\n",
        "input_tokenizer.get_config()"
      ]
    },
    {
      "cell_type": "code",
      "execution_count": 20,
      "metadata": {
        "colab": {
          "base_uri": "https://localhost:8080/"
        },
        "id": "ow51dLi-jRM2",
        "outputId": "817983bf-1063-4d6f-aad7-95006db8f849"
      },
      "outputs": [
        {
          "output_type": "execute_result",
          "data": {
            "text/plain": [
              "keras.preprocessing.text.Tokenizer"
            ]
          },
          "metadata": {},
          "execution_count": 20
        }
      ],
      "source": [
        "type(input_tokenizer)"
      ]
    },
    {
      "cell_type": "code",
      "execution_count": null,
      "metadata": {
        "id": "3wVNgPSAtsGW"
      },
      "outputs": [],
      "source": [
        "target_tokenizer = tf.keras.preprocessing.text.Tokenizer(\n",
        "    filters='!\"#$%&()*+,-./:;<=>?@[\\\\]^_`{|}~\\t\\n',\n",
        "    oov_token='<unk>'\n",
        ")\n",
        "target_tokenizer.fit_on_texts(target_data_c)\n",
        "target_tokenizer.get_config()"
      ]
    },
    {
      "cell_type": "markdown",
      "metadata": {
        "id": "tHa77dTXjRM2"
      },
      "source": [
        "#### Токенуудаа vector болгоно"
      ]
    },
    {
      "cell_type": "code",
      "execution_count": 22,
      "metadata": {
        "id": "icQppcOyIcIY"
      },
      "outputs": [],
      "source": [
        "#econder layer inputs\n",
        "train_encoder_inputs = input_tokenizer.texts_to_sequences(input_data_c)"
      ]
    },
    {
      "cell_type": "code",
      "execution_count": 23,
      "metadata": {
        "colab": {
          "base_uri": "https://localhost:8080/"
        },
        "id": "FhCCMHEajRM2",
        "outputId": "56d975a5-2ea7-4870-f8a3-6d0defc8b024"
      },
      "outputs": [
        {
          "output_type": "execute_result",
          "data": {
            "text/plain": [
              "([[2693], [7100, 9417, 2693], [9418, 2693, 181]],\n",
              " ['а', 'аравдугаар зүйлийн а', 'тавын а анги'])"
            ]
          },
          "metadata": {},
          "execution_count": 23
        }
      ],
      "source": [
        "train_encoder_inputs[:3], input_tokenizer.sequences_to_texts(train_encoder_inputs)[:3]"
      ]
    },
    {
      "cell_type": "markdown",
      "metadata": {
        "id": "athIpc2-jRM2"
      },
      "source": [
        "#### Доорх функц нь өгүүлбэрийн цуглуулгыг авч, тэдгээрийг векторжуулж, дараа нь тус бүрээс хоёр хуулбарыг буцаана. Эхнийх нь сүүлчийнхээс бусад бүх token-ийг, хоёр дахь нь эхнийхээс бусад бүх токенуудыг агуулна."
      ]
    },
    {
      "cell_type": "code",
      "execution_count": 24,
      "metadata": {
        "id": "U45q5UkIjRM2"
      },
      "outputs": [],
      "source": [
        "def generate_decoder_inputs_targets(sentences, tokenizer):\n",
        "  seqs = tokenizer.texts_to_sequences(sentences)\n",
        "  decoder_inputs = [s[:-1] for s in seqs] # Өгүүлбэрийн сүүлчийн токенийг хасна\n",
        "  decoder_targets = [s[1:] for s in seqs] # Өгүүлбэрийн эхний токенийг хасна\n",
        "\n",
        "  return decoder_inputs, decoder_targets"
      ]
    },
    {
      "cell_type": "code",
      "execution_count": 25,
      "metadata": {
        "id": "NJkssa33jRM2"
      },
      "outputs": [],
      "source": [
        "train_decoder_inputs, train_decoder_targets = generate_decoder_inputs_targets(target_data_c,\n",
        "                                                                              target_tokenizer)"
      ]
    },
    {
      "cell_type": "code",
      "execution_count": 26,
      "metadata": {
        "colab": {
          "base_uri": "https://localhost:8080/"
        },
        "id": "hm50dqgcjRM2",
        "outputId": "1f95a37f-d65b-47a5-9fa5-9d4203b223f2"
      },
      "outputs": [
        {
          "output_type": "stream",
          "name": "stdout",
          "text": [
            "[2, 8862, 2144, 649] [8862, 2144, 649, 3]\n",
            "['sos ᠠ', 'sos ᠠᠷᠪᠠᠳᠤᠭᠠᠷ ᠵᠦᠢᠯ\\u202fᠤᠨ ᠡ'] ['ᠠ eos', 'ᠠᠷᠪᠠᠳᠤᠭᠠᠷ ᠵᠦᠢᠯ\\u202fᠤᠨ ᠡ eos']\n"
          ]
        }
      ],
      "source": [
        "print(train_decoder_inputs[2], train_decoder_targets[2])\n",
        "\n",
        "print(target_tokenizer.sequences_to_texts(train_decoder_inputs[:2]),\n",
        "      target_tokenizer.sequences_to_texts(train_decoder_targets[:2]))"
      ]
    },
    {
      "cell_type": "code",
      "execution_count": 27,
      "metadata": {
        "colab": {
          "base_uri": "https://localhost:8080/"
        },
        "id": "DfkqzplvjRM2",
        "outputId": "e3835bec-cb74-4b09-ecfc-4ee093926bcc"
      },
      "outputs": [
        {
          "output_type": "execute_result",
          "data": {
            "text/plain": [
              "27"
            ]
          },
          "metadata": {},
          "execution_count": 27
        }
      ],
      "source": [
        "max_encoding_len = len(max(train_encoder_inputs, key=len))\n",
        "max_encoding_len"
      ]
    },
    {
      "cell_type": "code",
      "execution_count": 28,
      "metadata": {
        "colab": {
          "base_uri": "https://localhost:8080/"
        },
        "id": "KEvuiHcpjRM2",
        "outputId": "372f56e0-2443-4b07-a2bc-0ff0b4099f97"
      },
      "outputs": [
        {
          "output_type": "execute_result",
          "data": {
            "text/plain": [
              "21"
            ]
          },
          "metadata": {},
          "execution_count": 28
        }
      ],
      "source": [
        "max_decoding_len = len(max(train_decoder_inputs, key=len))\n",
        "max_decoding_len"
      ]
    },
    {
      "cell_type": "code",
      "execution_count": 29,
      "metadata": {
        "id": "KzWHpqU5jRM2"
      },
      "outputs": [],
      "source": [
        "padded_train_encoder_inputs = pad_sequences(train_encoder_inputs, max_encoding_len, padding='post', truncating='post')\n",
        "padded_train_decoder_inputs = pad_sequences(train_decoder_inputs, max_decoding_len, padding='post', truncating='post')\n",
        "padded_train_decoder_targets = pad_sequences(train_decoder_targets, max_decoding_len, padding='post', truncating='post')"
      ]
    },
    {
      "cell_type": "code",
      "execution_count": 30,
      "metadata": {
        "colab": {
          "base_uri": "https://localhost:8080/"
        },
        "id": "MjNy01TvjRM2",
        "outputId": "8f918583-62a6-45c2-9923-48b96898080f"
      },
      "outputs": [
        {
          "output_type": "stream",
          "name": "stdout",
          "text": [
            "[2693    0    0    0    0    0    0    0    0    0    0    0    0    0\n",
            "    0    0    0    0    0    0    0    0    0    0    0    0    0]\n",
            "[  2 729   0   0   0   0   0   0   0   0   0   0   0   0   0   0   0   0\n",
            "   0   0   0]\n",
            "[729   3   0   0   0   0   0   0   0   0   0   0   0   0   0   0   0   0\n",
            "   0   0   0]\n"
          ]
        }
      ],
      "source": [
        "print(padded_train_encoder_inputs[0])\n",
        "print(padded_train_decoder_inputs[0])\n",
        "print(padded_train_decoder_targets[0])"
      ]
    },
    {
      "cell_type": "code",
      "execution_count": 31,
      "metadata": {
        "colab": {
          "base_uri": "https://localhost:8080/"
        },
        "id": "cCSZvlQYjRM2",
        "outputId": "b6030752-bf11-48a9-b325-d825d4970491"
      },
      "outputs": [
        {
          "output_type": "execute_result",
          "data": {
            "text/plain": [
              "['sos ᠠᠷᠪᠠᠳᠤᠭᠠᠷ ᠵᠦᠢᠯ\\u202fᠤᠨ ᠡ <unk> <unk> <unk> <unk> <unk> <unk> <unk> <unk> <unk> <unk> <unk> <unk> <unk> <unk> <unk> <unk> <unk>']"
            ]
          },
          "metadata": {},
          "execution_count": 31
        }
      ],
      "source": [
        "(target_tokenizer.sequences_to_texts([padded_train_decoder_inputs[1]]))"
      ]
    },
    {
      "cell_type": "code",
      "execution_count": 32,
      "metadata": {
        "id": "aXRbiQmajRM6"
      },
      "outputs": [],
      "source": [
        "def process_dataset(dataset):\n",
        "\n",
        "  # Оролт болон гаралтын өгөгдлүүдээр хуваана.\n",
        "  input_data = val_data.iloc[:, 0].values.tolist()\n",
        "  output_data = val_data.iloc[:, 1].values.tolist()\n",
        "\n",
        "  # Tag target sentences with <sos> and <eos> tokens.\n",
        "  tagged_output = list(map(lambda s: '<sos>' + s + '<eos>', output_data))\n",
        "  # Vectorize encoder source sentences.\n",
        "  encoder_inputs = input_tokenizer.texts_to_sequences(input_data)\n",
        "\n",
        "  # Vectorize and create decoder input and target sentences.\n",
        "  decoder_inputs, decoder_targets = generate_decoder_inputs_targets(tagged_output,\n",
        "                                                                    target_tokenizer)\n",
        "\n",
        "  # Pad all collections.\n",
        "  padded_encoder_inputs = pad_sequences(encoder_inputs, max_encoding_len, padding='post', truncating='post')\n",
        "  padded_decoder_inputs = pad_sequences(decoder_inputs, max_decoding_len, padding='post', truncating='post')\n",
        "  padded_decoder_targets = pad_sequences(decoder_targets, max_decoding_len, padding='post', truncating='post')\n",
        "\n",
        "  return padded_encoder_inputs, padded_decoder_inputs, padded_decoder_targets\n"
      ]
    },
    {
      "cell_type": "code",
      "execution_count": 33,
      "metadata": {
        "id": "WTIqJxAejRM6"
      },
      "outputs": [],
      "source": [
        "# Process validation dataset\n",
        "padded_val_encoder_inputs, padded_val_decoder_inputs, padded_val_decoder_targets = process_dataset(val_data)"
      ]
    },
    {
      "cell_type": "code",
      "execution_count": 34,
      "metadata": {
        "colab": {
          "base_uri": "https://localhost:8080/"
        },
        "id": "RCLYDKk6jRM6",
        "outputId": "a24c28b1-0faf-4097-bf23-8d6108dd83c2"
      },
      "outputs": [
        {
          "output_type": "execute_result",
          "data": {
            "text/plain": [
              "array([2, 1, 0, 0, 0, 0, 0, 0, 0, 0, 0, 0, 0, 0, 0, 0, 0, 0, 0, 0, 0],\n",
              "      dtype=int32)"
            ]
          },
          "metadata": {},
          "execution_count": 34
        }
      ],
      "source": [
        "(padded_val_decoder_inputs[3])"
      ]
    },
    {
      "cell_type": "code",
      "execution_count": 35,
      "metadata": {
        "colab": {
          "base_uri": "https://localhost:8080/",
          "height": 206
        },
        "id": "PiRM9qA7jRM6",
        "outputId": "a9a6d0ad-067e-4708-b20f-f1277901ad2d"
      },
      "outputs": [
        {
          "output_type": "execute_result",
          "data": {
            "text/plain": [
              "                 TOLGOI_UG      TOLGOI_UG_HUDAM\n",
              "106608  хонины нүдэн цэцэг  ᠬᠣᠨᠢᠨ ᠤ ᠨᠢᠳᠦᠨ ᠴᠡᠴᠡᠭ\n",
              "106609           хонин нүд           ᠬᠣᠨᠢᠨ ᠨᠢᠳᠦ\n",
              "106610             ХОНЬЖИХ           ᠬᠣᠨᠢᠵᠢᠬᠤ  \n",
              "106611               ХОНЬС              ᠬᠣᠨᠢᠰᠤ \n",
              "106612               ХОНЬЧ              ᠬᠣᠨᠢᠴᠢ "
            ],
            "text/html": [
              "\n",
              "\n",
              "  <div id=\"df-b5750ff8-2cf9-4ea0-adec-14eb15ba97be\">\n",
              "    <div class=\"colab-df-container\">\n",
              "      <div>\n",
              "<style scoped>\n",
              "    .dataframe tbody tr th:only-of-type {\n",
              "        vertical-align: middle;\n",
              "    }\n",
              "\n",
              "    .dataframe tbody tr th {\n",
              "        vertical-align: top;\n",
              "    }\n",
              "\n",
              "    .dataframe thead th {\n",
              "        text-align: right;\n",
              "    }\n",
              "</style>\n",
              "<table border=\"1\" class=\"dataframe\">\n",
              "  <thead>\n",
              "    <tr style=\"text-align: right;\">\n",
              "      <th></th>\n",
              "      <th>TOLGOI_UG</th>\n",
              "      <th>TOLGOI_UG_HUDAM</th>\n",
              "    </tr>\n",
              "  </thead>\n",
              "  <tbody>\n",
              "    <tr>\n",
              "      <th>106608</th>\n",
              "      <td>хонины нүдэн цэцэг</td>\n",
              "      <td>ᠬᠣᠨᠢᠨ ᠤ ᠨᠢᠳᠦᠨ ᠴᠡᠴᠡᠭ</td>\n",
              "    </tr>\n",
              "    <tr>\n",
              "      <th>106609</th>\n",
              "      <td>хонин нүд</td>\n",
              "      <td>ᠬᠣᠨᠢᠨ ᠨᠢᠳᠦ</td>\n",
              "    </tr>\n",
              "    <tr>\n",
              "      <th>106610</th>\n",
              "      <td>ХОНЬЖИХ</td>\n",
              "      <td>ᠬᠣᠨᠢᠵᠢᠬᠤ</td>\n",
              "    </tr>\n",
              "    <tr>\n",
              "      <th>106611</th>\n",
              "      <td>ХОНЬС</td>\n",
              "      <td>ᠬᠣᠨᠢᠰᠤ</td>\n",
              "    </tr>\n",
              "    <tr>\n",
              "      <th>106612</th>\n",
              "      <td>ХОНЬЧ</td>\n",
              "      <td>ᠬᠣᠨᠢᠴᠢ</td>\n",
              "    </tr>\n",
              "  </tbody>\n",
              "</table>\n",
              "</div>\n",
              "      <button class=\"colab-df-convert\" onclick=\"convertToInteractive('df-b5750ff8-2cf9-4ea0-adec-14eb15ba97be')\"\n",
              "              title=\"Convert this dataframe to an interactive table.\"\n",
              "              style=\"display:none;\">\n",
              "\n",
              "  <svg xmlns=\"http://www.w3.org/2000/svg\" height=\"24px\"viewBox=\"0 0 24 24\"\n",
              "       width=\"24px\">\n",
              "    <path d=\"M0 0h24v24H0V0z\" fill=\"none\"/>\n",
              "    <path d=\"M18.56 5.44l.94 2.06.94-2.06 2.06-.94-2.06-.94-.94-2.06-.94 2.06-2.06.94zm-11 1L8.5 8.5l.94-2.06 2.06-.94-2.06-.94L8.5 2.5l-.94 2.06-2.06.94zm10 10l.94 2.06.94-2.06 2.06-.94-2.06-.94-.94-2.06-.94 2.06-2.06.94z\"/><path d=\"M17.41 7.96l-1.37-1.37c-.4-.4-.92-.59-1.43-.59-.52 0-1.04.2-1.43.59L10.3 9.45l-7.72 7.72c-.78.78-.78 2.05 0 2.83L4 21.41c.39.39.9.59 1.41.59.51 0 1.02-.2 1.41-.59l7.78-7.78 2.81-2.81c.8-.78.8-2.07 0-2.86zM5.41 20L4 18.59l7.72-7.72 1.47 1.35L5.41 20z\"/>\n",
              "  </svg>\n",
              "      </button>\n",
              "\n",
              "\n",
              "\n",
              "    <div id=\"df-4fc4d7f2-822b-4df3-913a-b4e8c4435f9e\">\n",
              "      <button class=\"colab-df-quickchart\" onclick=\"quickchart('df-4fc4d7f2-822b-4df3-913a-b4e8c4435f9e')\"\n",
              "              title=\"Suggest charts.\"\n",
              "              style=\"display:none;\">\n",
              "\n",
              "<svg xmlns=\"http://www.w3.org/2000/svg\" height=\"24px\"viewBox=\"0 0 24 24\"\n",
              "     width=\"24px\">\n",
              "    <g>\n",
              "        <path d=\"M19 3H5c-1.1 0-2 .9-2 2v14c0 1.1.9 2 2 2h14c1.1 0 2-.9 2-2V5c0-1.1-.9-2-2-2zM9 17H7v-7h2v7zm4 0h-2V7h2v10zm4 0h-2v-4h2v4z\"/>\n",
              "    </g>\n",
              "</svg>\n",
              "      </button>\n",
              "    </div>\n",
              "\n",
              "<style>\n",
              "  .colab-df-quickchart {\n",
              "    background-color: #E8F0FE;\n",
              "    border: none;\n",
              "    border-radius: 50%;\n",
              "    cursor: pointer;\n",
              "    display: none;\n",
              "    fill: #1967D2;\n",
              "    height: 32px;\n",
              "    padding: 0 0 0 0;\n",
              "    width: 32px;\n",
              "  }\n",
              "\n",
              "  .colab-df-quickchart:hover {\n",
              "    background-color: #E2EBFA;\n",
              "    box-shadow: 0px 1px 2px rgba(60, 64, 67, 0.3), 0px 1px 3px 1px rgba(60, 64, 67, 0.15);\n",
              "    fill: #174EA6;\n",
              "  }\n",
              "\n",
              "  [theme=dark] .colab-df-quickchart {\n",
              "    background-color: #3B4455;\n",
              "    fill: #D2E3FC;\n",
              "  }\n",
              "\n",
              "  [theme=dark] .colab-df-quickchart:hover {\n",
              "    background-color: #434B5C;\n",
              "    box-shadow: 0px 1px 3px 1px rgba(0, 0, 0, 0.15);\n",
              "    filter: drop-shadow(0px 1px 2px rgba(0, 0, 0, 0.3));\n",
              "    fill: #FFFFFF;\n",
              "  }\n",
              "</style>\n",
              "\n",
              "    <script>\n",
              "      async function quickchart(key) {\n",
              "        const containerElement = document.querySelector('#' + key);\n",
              "        const charts = await google.colab.kernel.invokeFunction(\n",
              "            'suggestCharts', [key], {});\n",
              "      }\n",
              "    </script>\n",
              "\n",
              "      <script>\n",
              "\n",
              "function displayQuickchartButton(domScope) {\n",
              "  let quickchartButtonEl =\n",
              "    domScope.querySelector('#df-4fc4d7f2-822b-4df3-913a-b4e8c4435f9e button.colab-df-quickchart');\n",
              "  quickchartButtonEl.style.display =\n",
              "    google.colab.kernel.accessAllowed ? 'block' : 'none';\n",
              "}\n",
              "\n",
              "        displayQuickchartButton(document);\n",
              "      </script>\n",
              "      <style>\n",
              "    .colab-df-container {\n",
              "      display:flex;\n",
              "      flex-wrap:wrap;\n",
              "      gap: 12px;\n",
              "    }\n",
              "\n",
              "    .colab-df-convert {\n",
              "      background-color: #E8F0FE;\n",
              "      border: none;\n",
              "      border-radius: 50%;\n",
              "      cursor: pointer;\n",
              "      display: none;\n",
              "      fill: #1967D2;\n",
              "      height: 32px;\n",
              "      padding: 0 0 0 0;\n",
              "      width: 32px;\n",
              "    }\n",
              "\n",
              "    .colab-df-convert:hover {\n",
              "      background-color: #E2EBFA;\n",
              "      box-shadow: 0px 1px 2px rgba(60, 64, 67, 0.3), 0px 1px 3px 1px rgba(60, 64, 67, 0.15);\n",
              "      fill: #174EA6;\n",
              "    }\n",
              "\n",
              "    [theme=dark] .colab-df-convert {\n",
              "      background-color: #3B4455;\n",
              "      fill: #D2E3FC;\n",
              "    }\n",
              "\n",
              "    [theme=dark] .colab-df-convert:hover {\n",
              "      background-color: #434B5C;\n",
              "      box-shadow: 0px 1px 3px 1px rgba(0, 0, 0, 0.15);\n",
              "      filter: drop-shadow(0px 1px 2px rgba(0, 0, 0, 0.3));\n",
              "      fill: #FFFFFF;\n",
              "    }\n",
              "  </style>\n",
              "\n",
              "      <script>\n",
              "        const buttonEl =\n",
              "          document.querySelector('#df-b5750ff8-2cf9-4ea0-adec-14eb15ba97be button.colab-df-convert');\n",
              "        buttonEl.style.display =\n",
              "          google.colab.kernel.accessAllowed ? 'block' : 'none';\n",
              "\n",
              "        async function convertToInteractive(key) {\n",
              "          const element = document.querySelector('#df-b5750ff8-2cf9-4ea0-adec-14eb15ba97be');\n",
              "          const dataTable =\n",
              "            await google.colab.kernel.invokeFunction('convertToInteractive',\n",
              "                                                     [key], {});\n",
              "          if (!dataTable) return;\n",
              "\n",
              "          const docLinkHtml = 'Like what you see? Visit the ' +\n",
              "            '<a target=\"_blank\" href=https://colab.research.google.com/notebooks/data_table.ipynb>data table notebook</a>'\n",
              "            + ' to learn more about interactive tables.';\n",
              "          element.innerHTML = '';\n",
              "          dataTable['output_type'] = 'display_data';\n",
              "          await google.colab.output.renderOutput(dataTable, element);\n",
              "          const docLink = document.createElement('div');\n",
              "          docLink.innerHTML = docLinkHtml;\n",
              "          element.appendChild(docLink);\n",
              "        }\n",
              "      </script>\n",
              "    </div>\n",
              "  </div>\n"
            ]
          },
          "metadata": {},
          "execution_count": 35
        }
      ],
      "source": [
        "val_data.head()"
      ]
    },
    {
      "cell_type": "code",
      "execution_count": 36,
      "metadata": {
        "id": "TmpjcpLXjRM6"
      },
      "outputs": [],
      "source": [
        "embedding_dim = 128\n",
        "hidden_dim = 256\n",
        "default_dropout=0.2\n",
        "batch_size = 32\n",
        "epochs = 30"
      ]
    },
    {
      "cell_type": "code",
      "execution_count": 37,
      "metadata": {
        "colab": {
          "base_uri": "https://localhost:8080/"
        },
        "id": "FYHPkTYKjRM6",
        "outputId": "cb426482-aca2-4969-fa4d-b06749fcfbb7"
      },
      "outputs": [
        {
          "output_type": "stream",
          "name": "stdout",
          "text": [
            "54026\n"
          ]
        }
      ],
      "source": [
        "source_vocab_size = len(input_tokenizer.word_index) + 1\n",
        "print(source_vocab_size)"
      ]
    },
    {
      "cell_type": "code",
      "execution_count": 38,
      "metadata": {
        "colab": {
          "base_uri": "https://localhost:8080/"
        },
        "id": "XTFXuQbujRM6",
        "outputId": "8a4e2e63-e73f-45a8-9cdc-3db9e4a70b1c"
      },
      "outputs": [
        {
          "output_type": "stream",
          "name": "stdout",
          "text": [
            "64368\n"
          ]
        }
      ],
      "source": [
        "target_vocab_size = len(target_tokenizer.word_index) + 1\n",
        "print(target_vocab_size)"
      ]
    },
    {
      "cell_type": "markdown",
      "metadata": {
        "id": "ILiuaGgCjRM6"
      },
      "source": [
        "#### Өмнөх үүсгэсэн модел нь 2 оролт авна\n",
        "1. Encoder нь кирилл оролтыг хүлээн авч decoder-ийн /decoder input/ оролт блолгон хувиргана.\n",
        "2. Decoder нь мөн Teacher Forcing-д зориулж кирилл оролтыг хүлээн авна."
      ]
    },
    {
      "cell_type": "markdown",
      "metadata": {
        "id": "zKtzkr_WjRM6"
      },
      "source": [
        "Ийм учраас Keras Sequential API-г ашиглахгүй.\n",
        "Моделийн давхаргуудыг график байдлаар харахын тулд Functional API ашиглна.\n",
        "#### https://keras.io/api/models/sequential/\n",
        "#### https://www.tensorflow.org/guide/keras/functional/"
      ]
    },
    {
      "cell_type": "markdown",
      "metadata": {
        "id": "5B2yblJTjRM6"
      },
      "source": [
        "Давхарга бүр нь график дахь зангилаатай адил юм. Бид нэг давхаргын гаралтыг нөгөө рүү дамжуулах бүрт энэ нь хоёр зангилааны хооронд холбоос үүсгэж, өгөгдөл дамжуулах боломжийг олгодог. Сургалтын загварыг бүхэлд нь бүтээсний дараа бид үүнийг илүү тодорхой болгохын тулд дүрслэн харуулах болно."
      ]
    },
    {
      "cell_type": "markdown",
      "metadata": {
        "id": "icu7U_p_jRM6"
      },
      "source": [
        "references\n",
        "###### https://keras.io/api/layers/core_layers/embedding/\n",
        "###### https://keras.io/api/layers/core_layers/input/\n",
        "###### https://keras.io/api/layers/recurrent_layers/lstm/"
      ]
    },
    {
      "cell_type": "markdown",
      "metadata": {
        "id": "9ZtAk5GvjRM7"
      },
      "source": [
        "### Encoder LSTM without attention"
      ]
    },
    {
      "cell_type": "code",
      "execution_count": 39,
      "metadata": {
        "id": "dtnPl3JejRM7"
      },
      "outputs": [],
      "source": [
        "#input layer\n",
        "encoder_inputs = layers.Input(shape=[None], name='encoder_inputs')\n",
        "\n",
        "# embedding layer\n",
        "encoder_embeddings = layers.Embedding(source_vocab_size,\n",
        "                                      embedding_dim,\n",
        "                                      mask_zero=True,\n",
        "                                      name='encoder_embeddings')\n",
        "\n",
        "# Оролтын давхаргыг embedding давхаргатай холбож байна.\n",
        "# Оролтын давхаргаас гарсан утгууд embedding давхаргаруу орох дарааллаар явна.\n",
        "encoder_embedding_output = encoder_embeddings(encoder_inputs)\n",
        "\n",
        "\n",
        "# We're not using any kind of attention mechanism in this model, so setting only\n",
        "# return_state to True is enough. return_sequences remains False.\n",
        "encoder_lstm = layers.LSTM(hidden_dim,\n",
        "                           return_state=True,\n",
        "                           dropout=default_dropout,\n",
        "                           name='encoder_lstm')\n",
        "\n",
        "# Passing the embedding layer output to the LSTM layer creates another link.\n",
        "# IMPORTANT: The LSTM always returns three values. When return_sequences is\n",
        "# False, encoder_outputs and state_h are the SAME. When return_sequences is\n",
        "# True, encoder_outputs contains the encoder hidden states from each time step.\n",
        "#\n",
        "# Side note: we won't be using encoder_outputs here so that variable can be\n",
        "# replaced with a _ if preferred.\n",
        "encoder_outputs, state_h, state_c = encoder_lstm(encoder_embedding_output)\n",
        "\n",
        "# The final hidden and cell/context states from the encoder will be the the\n",
        "# initial states for the decoder.\n",
        "encoder_states = (state_h, state_c)"
      ]
    },
    {
      "cell_type": "markdown",
      "metadata": {
        "id": "9hwJZUFjjRM7"
      },
      "source": [
        "### Decoder LSTM without attention"
      ]
    },
    {
      "cell_type": "code",
      "execution_count": 40,
      "metadata": {
        "id": "-2Co2hDyjRM7"
      },
      "outputs": [],
      "source": [
        "decoder_inputs = layers.Input(shape=[None], name='decoder_inputs')\n",
        "\n",
        "\n",
        "decoder_embeddings = layers.Embedding(target_vocab_size,\n",
        "                                      embedding_dim,\n",
        "                                      mask_zero=True,\n",
        "                                      name='decoder_embeddings')\n",
        "\n",
        "\n",
        "decoder_embedding_output = decoder_embeddings(decoder_inputs)\n",
        "\n",
        "# Return sequences set to True.\n",
        "decoder_lstm = layers.LSTM(hidden_dim,\n",
        "                           return_sequences=True,\n",
        "                           return_state=True,\n",
        "                           dropout=default_dropout,\n",
        "                           name='decoder_lstm')\n",
        "\n",
        "\n",
        "# Set the decoder's initial state to the encoder's final output states. Since\n",
        "# return_sequences is set to True, decoder_outputs is going to be a collection of\n",
        "# the decoder's hidden state at each timestep. Also note that since we don't need\n",
        "# the decoder's final hidden output and cell states, those are just set to _.\n",
        "decoder_outputs, _, _ = decoder_lstm(decoder_embedding_output, initial_state=encoder_states)\n",
        "\n",
        "# Have a softmax layer in the end to create a probability distribution for the output word.\n",
        "decoder_dense = layers.Dense(target_vocab_size, activation='softmax', name='decoder_dense')\n",
        "\n",
        "# The probability distribution for the output word.\n",
        "y_proba = decoder_dense(decoder_outputs)\n"
      ]
    },
    {
      "cell_type": "code",
      "execution_count": 41,
      "metadata": {
        "id": "Qv7I1nENjRM7",
        "colab": {
          "base_uri": "https://localhost:8080/"
        },
        "outputId": "5dd76451-dfd1-4640-be64-71472e2a18fe"
      },
      "outputs": [
        {
          "output_type": "stream",
          "name": "stdout",
          "text": [
            "Model: \"cyr_hudam_seq2seq_nmt_no_attention\"\n",
            "__________________________________________________________________________________________________\n",
            " Layer (type)                   Output Shape         Param #     Connected to                     \n",
            "==================================================================================================\n",
            " encoder_inputs (InputLayer)    [(None, None)]       0           []                               \n",
            "                                                                                                  \n",
            " decoder_inputs (InputLayer)    [(None, None)]       0           []                               \n",
            "                                                                                                  \n",
            " encoder_embeddings (Embedding)  (None, None, 128)   6915328     ['encoder_inputs[0][0]']         \n",
            "                                                                                                  \n",
            " decoder_embeddings (Embedding)  (None, None, 128)   8239104     ['decoder_inputs[0][0]']         \n",
            "                                                                                                  \n",
            " encoder_lstm (LSTM)            [(None, 256),        394240      ['encoder_embeddings[0][0]']     \n",
            "                                 (None, 256),                                                     \n",
            "                                 (None, 256)]                                                     \n",
            "                                                                                                  \n",
            " decoder_lstm (LSTM)            [(None, None, 256),  394240      ['decoder_embeddings[0][0]',     \n",
            "                                 (None, 256),                     'encoder_lstm[0][1]',           \n",
            "                                 (None, 256)]                     'encoder_lstm[0][2]']           \n",
            "                                                                                                  \n",
            " decoder_dense (Dense)          (None, None, 64368)  16542576    ['decoder_lstm[0][0]']           \n",
            "                                                                                                  \n",
            "==================================================================================================\n",
            "Total params: 32,485,488\n",
            "Trainable params: 32,485,488\n",
            "Non-trainable params: 0\n",
            "__________________________________________________________________________________________________\n"
          ]
        }
      ],
      "source": [
        "# Note how the model is taking two inputs in an array.\n",
        "model = tf.keras.Model([encoder_inputs, decoder_inputs], y_proba, name='cyr_hudam_seq2seq_nmt_no_attention')\n",
        "\n",
        "model.compile(optimizer='adam', loss='sparse_categorical_crossentropy',  metrics='sparse_categorical_accuracy')\n",
        "model.summary()"
      ]
    },
    {
      "cell_type": "code",
      "execution_count": 42,
      "metadata": {
        "id": "Q5eZi-zLkHCU",
        "colab": {
          "base_uri": "https://localhost:8080/",
          "height": 714
        },
        "outputId": "fab24800-44aa-4832-d5ca-fd227d28f885"
      },
      "outputs": [
        {
          "output_type": "execute_result",
          "data": {
            "image/png": "[encoded data removed]",
            "text/plain": [
              "<IPython.core.display.Image object>"
            ]
          },
          "metadata": {},
          "execution_count": 42
        }
      ],
      "source": [
        "from tensorflow.keras.utils import plot_model\n",
        "tf.keras.utils.plot_model(\n",
        "    model,\n",
        "    to_file='model.png',\n",
        "    show_shapes=1,\n",
        "    show_dtype=1,\n",
        "    show_layer_names=1,\n",
        "    rankdir='RB',\n",
        "    expand_nested=1,\n",
        "    dpi=100,\n",
        "    layer_range=None,\n",
        "    show_layer_activations=1,\n",
        "    show_trainable=1\n",
        ")"
      ]
    },
    {
      "cell_type": "code",
      "execution_count": 43,
      "metadata": {
        "id": "Z8Nf4qhl8ZrP"
      },
      "outputs": [],
      "source": [
        "\n",
        "filepath = r\"/content/\"\n",
        "# Create a callback that saves the model's weights\n",
        "cp_callback = tf.keras.callbacks.ModelCheckpoint(filepath=filepath,\n",
        "                                                 save_weights_only=True,\n",
        "                                                 verbose=1)"
      ]
    },
    {
      "cell_type": "code",
      "execution_count": 44,
      "metadata": {
        "id": "JmbPMHlX8sKy"
      },
      "outputs": [],
      "source": [
        "# gpus = tf.config.experimental.list_physical_devices('GPU')\n",
        "# if gpus:\n",
        "#     for gpu in gpus:\n",
        "#         tf.config.experimental.set_memory_growth(gpu, True)"
      ]
    },
    {
      "cell_type": "code",
      "execution_count": 45,
      "metadata": {
        "id": "BLVt4BZF8p7s",
        "colab": {
          "base_uri": "https://localhost:8080/"
        },
        "outputId": "4100b7eb-001d-4d92-91a2-59a5aaa522ce"
      },
      "outputs": [
        {
          "output_type": "stream",
          "name": "stdout",
          "text": [
            "Epoch 1/30\n",
            "3113/3113 [==============================] - ETA: 0s - loss: 6.4568 - sparse_categorical_accuracy: 0.3589\n",
            "Epoch 1: saving model to /content/\n",
            "3113/3113 [==============================] - 384s 118ms/step - loss: 6.4568 - sparse_categorical_accuracy: 0.3589 - val_loss: 6.3867 - val_sparse_categorical_accuracy: 0.3754\n",
            "Epoch 2/30\n",
            "3113/3113 [==============================] - ETA: 0s - loss: 5.3139 - sparse_categorical_accuracy: 0.3934\n",
            "Epoch 2: saving model to /content/\n",
            "3113/3113 [==============================] - 318s 102ms/step - loss: 5.3139 - sparse_categorical_accuracy: 0.3934 - val_loss: 6.2993 - val_sparse_categorical_accuracy: 0.4171\n",
            "Epoch 3/30\n",
            "3113/3113 [==============================] - ETA: 0s - loss: 4.2736 - sparse_categorical_accuracy: 0.4596\n",
            "Epoch 3: saving model to /content/\n",
            "3113/3113 [==============================] - 314s 101ms/step - loss: 4.2736 - sparse_categorical_accuracy: 0.4596 - val_loss: 6.4369 - val_sparse_categorical_accuracy: 0.4638\n",
            "Epoch 4/30\n",
            "3113/3113 [==============================] - ETA: 0s - loss: 3.3109 - sparse_categorical_accuracy: 0.5381\n",
            "Epoch 4: saving model to /content/\n",
            "3113/3113 [==============================] - 354s 114ms/step - loss: 3.3109 - sparse_categorical_accuracy: 0.5381 - val_loss: 6.6495 - val_sparse_categorical_accuracy: 0.4953\n",
            "Epoch 5/30\n",
            "3113/3113 [==============================] - ETA: 0s - loss: 2.4456 - sparse_categorical_accuracy: 0.6255\n",
            "Epoch 5: saving model to /content/\n",
            "3113/3113 [==============================] - 353s 113ms/step - loss: 2.4456 - sparse_categorical_accuracy: 0.6255 - val_loss: 6.7672 - val_sparse_categorical_accuracy: 0.5147\n"
          ]
        }
      ],
      "source": [
        "es_callback = tf.keras.callbacks.EarlyStopping(monitor='val_loss', patience=3)\n",
        "\n",
        "history = model.fit([padded_train_encoder_inputs, padded_train_decoder_inputs], padded_train_decoder_targets,\n",
        "                     batch_size=batch_size,\n",
        "                     epochs=epochs,\n",
        "                     validation_data=([padded_val_encoder_inputs, padded_val_decoder_inputs], padded_val_decoder_targets),\n",
        "                     callbacks=[cp_callback, es_callback])"
      ]
    },
    {
      "cell_type": "code",
      "source": [
        "history"
      ],
      "metadata": {
        "colab": {
          "base_uri": "https://localhost:8080/"
        },
        "id": "qTy3B8r2GIvw",
        "outputId": "9a65271d-1280-4fd7-a911-5bb2803e8966"
      },
      "execution_count": 46,
      "outputs": [
        {
          "output_type": "execute_result",
          "data": {
            "text/plain": [
              "<keras.callbacks.History at 0x7931a6edf730>"
            ]
          },
          "metadata": {},
          "execution_count": 46
        }
      ]
    },
    {
      "cell_type": "code",
      "source": [
        "model"
      ],
      "metadata": {
        "colab": {
          "base_uri": "https://localhost:8080/"
        },
        "id": "9WwkhJMMGWKI",
        "outputId": "354cd5cb-0fdd-41f7-cc59-6cc407792f44"
      },
      "execution_count": 47,
      "outputs": [
        {
          "output_type": "execute_result",
          "data": {
            "text/plain": [
              "<keras.engine.functional.Functional at 0x7931a575d000>"
            ]
          },
          "metadata": {},
          "execution_count": 47
        }
      ]
    },
    {
      "cell_type": "code",
      "source": [
        "import matplotlib.pyplot as plt\n",
        "\n",
        "# Plot training & validation loss values\n",
        "plt.figure(figsize=(10, 6))\n",
        "plt.plot(history.history['loss'], label='Train Loss')\n",
        "plt.plot(history.history['val_loss'], label='Validation Loss')\n",
        "plt.title('Model Loss')\n",
        "plt.xlabel('Epoch')\n",
        "plt.ylabel('Loss')\n",
        "plt.legend()\n",
        "plt.show()"
      ],
      "metadata": {
        "colab": {
          "base_uri": "https://localhost:8080/",
          "height": 564
        },
        "id": "yu9czS39HPmH",
        "outputId": "1e6a4c43-b997-4f9e-c700-a104987e4da6"
      },
      "execution_count": 48,
      "outputs": [
        {
          "output_type": "display_data",
          "data": {
            "text/plain": [
              "<Figure size 1000x600 with 1 Axes>"
            ],
            "image/png": "[encoded data removed]"
          },
          "metadata": {}
        }
      ]
    },
    {
      "cell_type": "markdown",
      "source": [
        "test"
      ],
      "metadata": {
        "id": "6mOqAUwmQIEX"
      }
    },
    {
      "cell_type": "markdown",
      "source": [
        "Тестийн өгөгдлийг token болгож байна"
      ],
      "metadata": {
        "id": "NmaGrRPMXq5A"
      }
    },
    {
      "cell_type": "code",
      "source": [
        "padded_test_encoder_inputs, padded_test_decoder_inputs, padded_test_decoder_targets = process_dataset(test_data)"
      ],
      "metadata": {
        "id": "2158SgA0QHbn"
      },
      "execution_count": 87,
      "outputs": []
    },
    {
      "cell_type": "code",
      "source": [
        "test_data.head(3),test_encoder[:3]"
      ],
      "metadata": {
        "colab": {
          "base_uri": "https://localhost:8080/"
        },
        "id": "bJJ--QE9VLEQ",
        "outputId": "9c2b90d7-04aa-44ba-d29b-0e27140992e5"
      },
      "execution_count": 86,
      "outputs": [
        {
          "output_type": "execute_result",
          "data": {
            "text/plain": [
              "(       TOLGOI_UG TOLGOI_UG_HUDAM\n",
              " 133939     ХИМЭГ          ᠬᠢᠮᠡᠭ \n",
              " 133940   ХИРЧХЭН      ᠬᠢᠷᠢᠴᠢᠬᠡᠨ \n",
              " 133941   ШАГДАЙХ       ᠰᠢᠭᠳᠠᠶᠢᠬᠤ,\n",
              " array([[ 836, 2452,   90,    0,    0,    0,    0,    0,    0,    0,    0,\n",
              "            0,    0,    0,    0,    0,    0,    0,    0,    0,    0,    0,\n",
              "            0,    0,    0,    0,    0],\n",
              "        [ 615,   41,    0,    0,    0,    0,    0,    0,    0,    0,    0,\n",
              "            0,    0,    0,    0,    0,    0,    0,    0,    0,    0,    0,\n",
              "            0,    0,    0,    0,    0],\n",
              "        [   1,    0,    0,    0,    0,    0,    0,    0,    0,    0,    0,\n",
              "            0,    0,    0,    0,    0,    0,    0,    0,    0,    0,    0,\n",
              "            0,    0,    0,    0,    0]], dtype=int32))"
            ]
          },
          "metadata": {},
          "execution_count": 86
        }
      ]
    },
    {
      "cell_type": "markdown",
      "source": [
        "Моделоо үнэлж байна"
      ],
      "metadata": {
        "id": "3ZsDr0M-XvkB"
      }
    },
    {
      "cell_type": "code",
      "source": [
        "score = model.evaluate([padded_test_encoder_inputs, padded_test_decoder_inputs], padded_test_decoder_targets)"
      ],
      "metadata": {
        "colab": {
          "base_uri": "https://localhost:8080/"
        },
        "id": "RlHqbqaxWHEZ",
        "outputId": "61997d5d-dbac-4f53-a310-13983b0db49f"
      },
      "execution_count": 89,
      "outputs": [
        {
          "output_type": "stream",
          "name": "stdout",
          "text": [
            "781/781 [==============================] - 47s 60ms/step - loss: 6.7672 - sparse_categorical_accuracy: 0.5147\n"
          ]
        }
      ]
    },
    {
      "cell_type": "code",
      "source": [
        "print(\"Test Loss:\", score[0])\n",
        "print(\"Test Accuracy:\", score[1])"
      ],
      "metadata": {
        "colab": {
          "base_uri": "https://localhost:8080/"
        },
        "id": "BoDr5W1rW8l6",
        "outputId": "216b9693-e52a-46b1-b271-ed53dab9d072"
      },
      "execution_count": 93,
      "outputs": [
        {
          "output_type": "stream",
          "name": "stdout",
          "text": [
            "Test Loss: 6.767200469970703\n",
            "Test Accuracy: 0.514747679233551\n"
          ]
        }
      ]
    },
    {
      "cell_type": "markdown",
      "source": [
        "моделийн давхаргууд"
      ],
      "metadata": {
        "id": "b8cgx_6jXz85"
      }
    },
    {
      "cell_type": "code",
      "source": [
        "[layer.name for layer in model.layers]"
      ],
      "metadata": {
        "colab": {
          "base_uri": "https://localhost:8080/"
        },
        "id": "z2mFEB8VXlyY",
        "outputId": "d6989dbf-d35f-4e17-a1af-5a731e7b5b99"
      },
      "execution_count": 94,
      "outputs": [
        {
          "output_type": "execute_result",
          "data": {
            "text/plain": [
              "['encoder_inputs',\n",
              " 'decoder_inputs',\n",
              " 'encoder_embeddings',\n",
              " 'decoder_embeddings',\n",
              " 'encoder_lstm',\n",
              " 'decoder_lstm',\n",
              " 'decoder_dense']"
            ]
          },
          "metadata": {},
          "execution_count": 94
        }
      ]
    },
    {
      "cell_type": "markdown",
      "source": [
        "моделоо хадгалах"
      ],
      "metadata": {
        "id": "wyKFHWw-X2qp"
      }
    },
    {
      "cell_type": "code",
      "source": [
        "model.save('translate_no_attention_model.keras')"
      ],
      "metadata": {
        "id": "a1xBoVEXLUxC"
      },
      "execution_count": 66,
      "outputs": []
    },
    {
      "cell_type": "code",
      "source": [
        "def translate_without_attention(sentence: str,\n",
        "                                source_tokenizer, encoder,\n",
        "                                target_tokenizer, decoder,\n",
        "                                max_translated_len = 30):\n",
        "\n",
        "  # Vectorize the source sentence and run it through the encoder.\n",
        "  input_seq = source_tokenizer.texts_to_sequences([sentence])\n",
        "\n",
        "  # Get the tokenized sentence to see if there are any unknown tokens.\n",
        "  tokenized_sentence = source_tokenizer.sequences_to_texts(input_seq)\n",
        "\n",
        "  states = encoder.predict(input_seq)\n",
        "\n",
        "  current_word = '<sos>'\n",
        "  decoded_sentence = []\n",
        "\n",
        "  while len(decoded_sentence) < max_translated_len:\n",
        "\n",
        "    # Set the next input word for the decoder.\n",
        "    target_seq = np.zeros((1,1))\n",
        "    target_seq[0, 0] = target_tokenizer.word_index[current_word]\n",
        "\n",
        "    # Determine the next word.\n",
        "    target_y_proba, h, c = decoder.predict([target_seq] + states)\n",
        "    target_token_index = np.argmax(target_y_proba[0, -1, :])\n",
        "    current_word = target_tokenizer.index_word[target_token_index]\n",
        "\n",
        "    if (current_word == '<eos>'):\n",
        "      break\n",
        "\n",
        "    decoded_sentence.append(current_word)\n",
        "    states = [h, c]\n",
        "\n",
        "  return tokenized_sentence[0], ' '.join(decoded_sentence)\n"
      ],
      "metadata": {
        "id": "zdLQt03oUIGB"
      },
      "execution_count": 69,
      "outputs": []
    },
    {
      "cell_type": "code",
      "source": [
        "def translate_sentences(sentences, translation_func, source_tokenizer, encoder,\n",
        "                        target_tokenizer, decoder):\n",
        "  translations = {'Tokenized Original': [], 'Reference': [], 'Translation': []}\n",
        "\n",
        "  for s in range(len(test_data.values.tolist())):\n",
        "    source = test_data.iloc[:, 0].values.tolist()\n",
        "    target = test_data.iloc[:, 1].values.tolist()\n",
        "    source = list(map(lambda s: '<sos>' + s + '<eos>', source))\n",
        "    target = list(map(lambda s: '<sos>' + s + '<eos>', target))\n",
        "    tokenized_sentence, translated = translation_func(source, source_tokenizer, encoder,\n",
        "                                                      target_tokenizer, decoder)\n",
        "\n",
        "    translations['Tokenized Original'].append(tokenized_sentence)\n",
        "    translations['Reference'].append(target)\n",
        "    translations['Translation'].append(translated)\n",
        "\n",
        "  return translations"
      ],
      "metadata": {
        "id": "I0cy36vzUv2w"
      },
      "execution_count": 135,
      "outputs": []
    },
    {
      "cell_type": "code",
      "source": [
        "encoder_inputs = model.get_layer('encoder_inputs').input\n",
        "\n",
        "encoder_embedding_layer = model.get_layer('encoder_embeddings')\n",
        "encoder_embeddings = encoder_embedding_layer(encoder_inputs)\n",
        "\n",
        "encoder_lstm = model.get_layer('encoder_lstm')\n",
        "\n",
        "_, encoder_state_h, encoder_state_c = encoder_lstm(encoder_embeddings)\n",
        "\n",
        "encoder_states = [encoder_state_h, encoder_state_c]\n",
        "\n",
        "# Our stand-alone encoder model. encoder_inputs is the input to the encoder,\n",
        "# and encoder_states is the expected output.\n",
        "encoder_model_no_attention = tf.keras.Model(encoder_inputs, encoder_states)"
      ],
      "metadata": {
        "id": "NuSV0hu0YEwQ"
      },
      "execution_count": 102,
      "outputs": []
    },
    {
      "cell_type": "code",
      "source": [
        "decoder_inputs = model.get_layer('decoder_inputs').input\n",
        "\n",
        "decoder_embedding_layer = model.get_layer('decoder_embeddings')\n",
        "decoder_embeddings = decoder_embedding_layer(decoder_inputs)\n",
        "\n",
        "# Inputs to represent the decoder's LSTM hidden and cell states. We'll populate\n",
        "# these manually using the encoder's output for the initial state.\n",
        "decoder_input_state_h = tf.keras.Input(shape=(hidden_dim,), name='decoder_input_state_h')\n",
        "decoder_input_state_c = tf.keras.Input(shape=(hidden_dim,), name='decoder_input_state_c')\n",
        "decoder_input_states = [decoder_input_state_h, decoder_input_state_c]\n",
        "\n",
        "decoder_lstm = model.get_layer('decoder_lstm')\n",
        "\n",
        "decoder_sequence_outputs, decoder_output_state_h, decoder_output_state_c = decoder_lstm(\n",
        "    decoder_embeddings, initial_state=decoder_input_states\n",
        ")\n",
        "\n",
        "# Update hidden and cell states for the next time step.\n",
        "decoder_output_states = [decoder_output_state_h, decoder_output_state_c]\n",
        "\n",
        "decoder_dense = model.get_layer('decoder_dense')\n",
        "y_proba = decoder_dense(decoder_sequence_outputs)\n",
        "\n",
        "decoder_model_no_attention = tf.keras.Model(\n",
        "    [decoder_inputs] + decoder_input_states,\n",
        "    [y_proba] + decoder_output_states\n",
        ")"
      ],
      "metadata": {
        "id": "9r-g8MYyYLBw"
      },
      "execution_count": 103,
      "outputs": []
    },
    {
      "cell_type": "code",
      "source": [
        "translations_no_attention = pd.DataFrame(translate_sentences(test_data, translate_without_attention,\n",
        "                                                             input_tokenizer, encoder_model_no_attention,\n",
        "                                                             target_tokenizer, decoder_model_no_attention))\n",
        "translations_no_attention"
      ],
      "metadata": {
        "colab": {
          "base_uri": "https://localhost:8080/",
          "height": 406
        },
        "id": "4DDzNvZKUxrA",
        "outputId": "b7e8c7d7-fa06-41f8-b559-98482996aa63"
      },
      "execution_count": 137,
      "outputs": [
        {
          "output_type": "stream",
          "name": "stdout",
          "text": [
            "1/1 [==============================] - 0s 50ms/step\n"
          ]
        },
        {
          "output_type": "error",
          "ename": "KeyError",
          "evalue": "ignored",
          "traceback": [
            "\u001b[0;31m---------------------------------------------------------------------------\u001b[0m",
            "\u001b[0;31mKeyError\u001b[0m                                  Traceback (most recent call last)",
            "\u001b[0;32m<ipython-input-137-ae5ec7ab4830>\u001b[0m in \u001b[0;36m<cell line: 1>\u001b[0;34m()\u001b[0m\n\u001b[0;32m----> 1\u001b[0;31m translations_no_attention = pd.DataFrame(translate_sentences(test_data, translate_without_attention,\n\u001b[0m\u001b[1;32m      2\u001b[0m                                                              \u001b[0minput_tokenizer\u001b[0m\u001b[0;34m,\u001b[0m \u001b[0mencoder_model_no_attention\u001b[0m\u001b[0;34m,\u001b[0m\u001b[0;34m\u001b[0m\u001b[0;34m\u001b[0m\u001b[0m\n\u001b[1;32m      3\u001b[0m                                                              target_tokenizer, decoder_model_no_attention))\n\u001b[1;32m      4\u001b[0m \u001b[0mtranslations_no_attention\u001b[0m\u001b[0;34m\u001b[0m\u001b[0;34m\u001b[0m\u001b[0m\n",
            "\u001b[0;32m<ipython-input-135-413e0a8304cb>\u001b[0m in \u001b[0;36mtranslate_sentences\u001b[0;34m(sentences, translation_func, source_tokenizer, encoder, target_tokenizer, decoder)\u001b[0m\n\u001b[1;32m      8\u001b[0m     \u001b[0msource\u001b[0m \u001b[0;34m=\u001b[0m \u001b[0mlist\u001b[0m\u001b[0;34m(\u001b[0m\u001b[0mmap\u001b[0m\u001b[0;34m(\u001b[0m\u001b[0;32mlambda\u001b[0m \u001b[0ms\u001b[0m\u001b[0;34m:\u001b[0m \u001b[0;34m'<sos>'\u001b[0m \u001b[0;34m+\u001b[0m \u001b[0ms\u001b[0m \u001b[0;34m+\u001b[0m \u001b[0;34m'<eos>'\u001b[0m\u001b[0;34m,\u001b[0m \u001b[0msource\u001b[0m\u001b[0;34m)\u001b[0m\u001b[0;34m)\u001b[0m\u001b[0;34m\u001b[0m\u001b[0;34m\u001b[0m\u001b[0m\n\u001b[1;32m      9\u001b[0m     \u001b[0mtarget\u001b[0m \u001b[0;34m=\u001b[0m \u001b[0mlist\u001b[0m\u001b[0;34m(\u001b[0m\u001b[0mmap\u001b[0m\u001b[0;34m(\u001b[0m\u001b[0;32mlambda\u001b[0m \u001b[0ms\u001b[0m\u001b[0;34m:\u001b[0m \u001b[0;34m'<sos>'\u001b[0m \u001b[0;34m+\u001b[0m \u001b[0ms\u001b[0m \u001b[0;34m+\u001b[0m \u001b[0;34m'<eos>'\u001b[0m\u001b[0;34m,\u001b[0m \u001b[0mtarget\u001b[0m\u001b[0;34m)\u001b[0m\u001b[0;34m)\u001b[0m\u001b[0;34m\u001b[0m\u001b[0;34m\u001b[0m\u001b[0m\n\u001b[0;32m---> 10\u001b[0;31m     tokenized_sentence, translated = translation_func(source, source_tokenizer, encoder,\n\u001b[0m\u001b[1;32m     11\u001b[0m                                                       target_tokenizer, decoder)\n\u001b[1;32m     12\u001b[0m \u001b[0;34m\u001b[0m\u001b[0m\n",
            "\u001b[0;32m<ipython-input-69-e3c4a5517b75>\u001b[0m in \u001b[0;36mtranslate_without_attention\u001b[0;34m(sentence, source_tokenizer, encoder, target_tokenizer, decoder, max_translated_len)\u001b[0m\n\u001b[1;32m     19\u001b[0m     \u001b[0;31m# Set the next input word for the decoder.\u001b[0m\u001b[0;34m\u001b[0m\u001b[0;34m\u001b[0m\u001b[0m\n\u001b[1;32m     20\u001b[0m     \u001b[0mtarget_seq\u001b[0m \u001b[0;34m=\u001b[0m \u001b[0mnp\u001b[0m\u001b[0;34m.\u001b[0m\u001b[0mzeros\u001b[0m\u001b[0;34m(\u001b[0m\u001b[0;34m(\u001b[0m\u001b[0;36m1\u001b[0m\u001b[0;34m,\u001b[0m\u001b[0;36m1\u001b[0m\u001b[0;34m)\u001b[0m\u001b[0;34m)\u001b[0m\u001b[0;34m\u001b[0m\u001b[0;34m\u001b[0m\u001b[0m\n\u001b[0;32m---> 21\u001b[0;31m     \u001b[0mtarget_seq\u001b[0m\u001b[0;34m[\u001b[0m\u001b[0;36m0\u001b[0m\u001b[0;34m,\u001b[0m \u001b[0;36m0\u001b[0m\u001b[0;34m]\u001b[0m \u001b[0;34m=\u001b[0m \u001b[0mtarget_tokenizer\u001b[0m\u001b[0;34m.\u001b[0m\u001b[0mword_index\u001b[0m\u001b[0;34m[\u001b[0m\u001b[0mcurrent_word\u001b[0m\u001b[0;34m]\u001b[0m\u001b[0;34m\u001b[0m\u001b[0;34m\u001b[0m\u001b[0m\n\u001b[0m\u001b[1;32m     22\u001b[0m \u001b[0;34m\u001b[0m\u001b[0m\n\u001b[1;32m     23\u001b[0m     \u001b[0;31m# Determine the next word.\u001b[0m\u001b[0;34m\u001b[0m\u001b[0;34m\u001b[0m\u001b[0m\n",
            "\u001b[0;31mKeyError\u001b[0m: '<sos>'"
          ]
        }
      ]
    },
    {
      "cell_type": "code",
      "source": [
        "model.predict([padded_test_encoder_inputs, padded_test_decoder_inputs])"
      ],
      "metadata": {
        "colab": {
          "base_uri": "https://localhost:8080/",
          "height": 181
        },
        "id": "OQC5nFW7ofqw",
        "outputId": "a2f2681b-fab0-4e92-f700-d2c9a392d683"
      },
      "execution_count": 1,
      "outputs": [
        {
          "output_type": "error",
          "ename": "NameError",
          "evalue": "ignored",
          "traceback": [
            "\u001b[0;31m---------------------------------------------------------------------------\u001b[0m",
            "\u001b[0;31mNameError\u001b[0m                                 Traceback (most recent call last)",
            "\u001b[0;32m<ipython-input-1-f52ed6d18bc4>\u001b[0m in \u001b[0;36m<cell line: 1>\u001b[0;34m()\u001b[0m\n\u001b[0;32m----> 1\u001b[0;31m \u001b[0mmodel\u001b[0m\u001b[0;34m.\u001b[0m\u001b[0mpredict\u001b[0m\u001b[0;34m(\u001b[0m\u001b[0;34m[\u001b[0m\u001b[0mpadded_test_encoder_inputs\u001b[0m\u001b[0;34m,\u001b[0m \u001b[0mpadded_test_decoder_inputs\u001b[0m\u001b[0;34m]\u001b[0m\u001b[0;34m)\u001b[0m\u001b[0;34m\u001b[0m\u001b[0;34m\u001b[0m\u001b[0m\n\u001b[0m",
            "\u001b[0;31mNameError\u001b[0m: name 'model' is not defined"
          ]
        }
      ]
    }
  ],
  "metadata": {
    "accelerator": "GPU",
    "colab": {
      "provenance": [],
      "include_colab_link": true
    },
    "kernelspec": {
      "display_name": "Python 3",
      "name": "python3"
    },
    "language_info": {
      "codemirror_mode": {
        "name": "ipython",
        "version": 3
      },
      "file_extension": ".py",
      "mimetype": "text/x-python",
      "name": "python",
      "nbconvert_exporter": "python",
      "pygments_lexer": "ipython3",
      "version": "3.11.4"
    }
  },
  "nbformat": 4,
  "nbformat_minor": 0
}