{
  "cells": [
    {
      "cell_type": "code",
      "execution_count": 1,
      "metadata": {
        "colab": {
          "base_uri": "https://localhost:8080/"
        },
        "id": "UrH31_NsivOt",
        "outputId": "9891909d-6ba4-4a34-da85-7b11f713b403"
      },
      "outputs": [],
      "source": [
        "import io\n",
        "import json\n",
        "import numpy as np\n",
        "import pandas as pd\n",
        "import random\n",
        "import re\n",
        "import tensorflow as tf\n",
        "import unicodedata\n",
        "\n",
        "from tensorflow.keras import layers\n",
        "from tensorflow.keras.preprocessing.sequence import pad_sequences\n",
        "from itertools import chain\n",
        "# from google.colab import drive\n",
        "# drive.mount('/content/drive')"
      ]
    },
    {
      "cell_type": "markdown",
      "metadata": {
        "id": "47sgNwvWkVI5"
      },
      "source": [
        "## Data Process"
      ]
    },
    {
      "cell_type": "markdown",
      "metadata": {
        "id": "ZUTkZkpgk78O"
      },
      "source": [
        "### /split data into train val test/"
      ]
    },
    {
      "cell_type": "code",
      "execution_count": 2,
      "metadata": {
        "id": "DJRpJODRi6X6"
      },
      "outputs": [],
      "source": [
        "data_frame = pd.read_csv(r'C:\\Users\\103\\work\\Mongolian cryllic to Traditional script\\Cryllic2Script\\toli_data.csv')"
      ]
    },
    {
      "cell_type": "code",
      "execution_count": 3,
      "metadata": {
        "id": "ox-iLVBakTXr"
      },
      "outputs": [],
      "source": [
        "data_frame = data_frame.dropna()"
      ]
    },
    {
      "cell_type": "code",
      "execution_count": 4,
      "metadata": {
        "id": "trM8VI2DkbJL"
      },
      "outputs": [],
      "source": [
        "data_frame = data_frame.values.tolist()"
      ]
    },
    {
      "cell_type": "code",
      "execution_count": 5,
      "metadata": {
        "colab": {
          "base_uri": "https://localhost:8080/"
        },
        "id": "SUW51BDAkcFq",
        "outputId": "2e1e8962-76c6-4b88-ff6f-8ab719ad5311"
      },
      "outputs": [
        {
          "data": {
            "text/plain": [
              "[['А', 'ᠠ'], ['аравдугаар зүйлийн а', 'ᠠᠷᠪᠠᠳᠤᠭᠠᠷ ᠵᠦᠢᠯ\\u202fᠤᠨ ᠡ']]"
            ]
          },
          "execution_count": 5,
          "metadata": {},
          "output_type": "execute_result"
        }
      ],
      "source": [
        "data_frame[:2]"
      ]
    },
    {
      "cell_type": "code",
      "execution_count": 6,
      "metadata": {
        "id": "tNFRDCIOkdqL"
      },
      "outputs": [],
      "source": [
        "data_txt = list(map(lambda each_list: (each_list[0]).lower().strip() + '<sep>' + each_list[1].strip(), data_frame))"
      ]
    },
    {
      "cell_type": "code",
      "execution_count": 7,
      "metadata": {
        "colab": {
          "base_uri": "https://localhost:8080/"
        },
        "id": "v3cm2Smqketa",
        "outputId": "b09254c0-420d-4bb1-9a46-7b9e741e66d1"
      },
      "outputs": [
        {
          "data": {
            "text/plain": [
              "['а<sep>ᠠ', 'аравдугаар зүйлийн а<sep>ᠠᠷᠪᠠᠳᠤᠭᠠᠷ ᠵᠦᠢᠯ\\u202fᠤᠨ ᠡ']"
            ]
          },
          "execution_count": 7,
          "metadata": {},
          "output_type": "execute_result"
        }
      ],
      "source": [
        "data_txt[:2]"
      ]
    },
    {
      "cell_type": "code",
      "execution_count": 8,
      "metadata": {
        "colab": {
          "base_uri": "https://localhost:8080/"
        },
        "id": "FiU2qJkYkga6",
        "outputId": "e2887e1f-b3d0-4c6d-a0ef-6b354f7345e3"
      },
      "outputs": [
        {
          "data": {
            "text/plain": [
              "(100, 134901)"
            ]
          },
          "execution_count": 8,
          "metadata": {},
          "output_type": "execute_result"
        }
      ],
      "source": [
        "test_data = data_txt[-100:]\n",
        "data_txt = data_txt[:-100]\n",
        "len(test_data), len(data_txt)"
      ]
    },
    {
      "cell_type": "code",
      "execution_count": 9,
      "metadata": {
        "id": "E95UCzX9khVZ"
      },
      "outputs": [],
      "source": [
        "train_data = data_txt[:len(data_txt) // 100 * 90]\n",
        "val_data = data_txt[len(train_data):]"
      ]
    },
    {
      "cell_type": "code",
      "execution_count": 10,
      "metadata": {},
      "outputs": [
        {
          "data": {
            "text/plain": [
              "['алтан цэгцүүхэй<sep>ᠠᠯᠲᠠᠨ ᠴᠡᠭᠴᠡᠦᠬᠡᠢ',\n",
              " 'цэгцхэн<sep>ᠴᠡᠭᠴᠡᠬᠡᠨ',\n",
              " 'цэгцэсгэх<sep>ᠴᠡᠭᠴᠡᠰᠬᠡᠬᠦ']"
            ]
          },
          "execution_count": 10,
          "metadata": {},
          "output_type": "execute_result"
        }
      ],
      "source": [
        "val_data[:3]"
      ]
    },
    {
      "cell_type": "code",
      "execution_count": 11,
      "metadata": {
        "id": "DICkslDDkin5"
      },
      "outputs": [],
      "source": [
        "# Кирил худам тус бүрээр салгана\n",
        "SEPARATOR = '<sep>'\n",
        "train_input, train_target = map(list, zip(*[pair.split(SEPARATOR) for pair in train_data]))"
      ]
    },
    {
      "cell_type": "code",
      "execution_count": 12,
      "metadata": {
        "colab": {
          "base_uri": "https://localhost:8080/"
        },
        "id": "xd4gvhXyktRr",
        "outputId": "4742e739-2126-41a0-afb9-9520d83f5889"
      },
      "outputs": [
        {
          "name": "stdout",
          "output_type": "stream",
          "text": [
            "['а', 'аравдугаар зүйлийн а', 'тавын а анги'] 121410\n",
            "['ᠠ', 'ᠠᠷᠪᠠᠳᠤᠭᠠᠷ ᠵᠦᠢᠯ\\u202fᠤᠨ ᠡ', 'ᠲᠠᠪᠤ\\u202fᠢᠢᠨ ᠡ ᠠᠨᠭ᠍ᠭᠢ'] 121410\n"
          ]
        }
      ],
      "source": [
        "print(train_input[:3], len(train_input))\n",
        "print(train_target[:3], len(train_target))"
      ]
    },
    {
      "cell_type": "code",
      "execution_count": 13,
      "metadata": {
        "id": "LbpHAZZvkuxa"
      },
      "outputs": [],
      "source": [
        "# Хоосон зайг устгана\n",
        "def preprocess_sentence(s):\n",
        "  s = s.strip()\n",
        "  return s"
      ]
    },
    {
      "cell_type": "code",
      "execution_count": 14,
      "metadata": {
        "id": "Cd6yzv7XkzHZ"
      },
      "outputs": [],
      "source": [
        "train_preprocessed_input = [preprocess_sentence(s) for s in train_input]\n",
        "train_preprocessed_target = [preprocess_sentence(s) for s in train_target]"
      ]
    },
    {
      "cell_type": "code",
      "execution_count": 15,
      "metadata": {},
      "outputs": [
        {
          "data": {
            "text/plain": [
              "(['а', 'аравдугаар зүйлийн а'], ['ᠠ', 'ᠠᠷᠪᠠᠳᠤᠭᠠᠷ ᠵᠦᠢᠯ\\u202fᠤᠨ ᠡ'])"
            ]
          },
          "execution_count": 15,
          "metadata": {},
          "output_type": "execute_result"
        }
      ],
      "source": [
        "train_preprocessed_input[:2], train_preprocessed_target[:2]"
      ]
    },
    {
      "cell_type": "markdown",
      "metadata": {
        "id": "2dQTDfPSk3Z5"
      },
      "source": [
        "### /Teacher forcing сургалтанд ашиглахын тулд sos, eos тагуудыг оруулах хэрэгтэй. End of sentence, start of sentence/"
      ]
    },
    {
      "cell_type": "code",
      "execution_count": 16,
      "metadata": {
        "id": "g_QXu07Qk0Ip"
      },
      "outputs": [],
      "source": [
        "#Тагуудаа залгана\n",
        "def tag_target_sentences(sentences):\n",
        "  tagged_sentences = map(lambda s: (' ').join(['<sos>', s, '<eos>']), sentences)\n",
        "  return list(tagged_sentences)"
      ]
    },
    {
      "cell_type": "code",
      "execution_count": 17,
      "metadata": {
        "id": "dRxuiesIlHTf"
      },
      "outputs": [],
      "source": [
        "  train_tagged_preprocessed_target = tag_target_sentences(train_preprocessed_target)"
      ]
    },
    {
      "cell_type": "code",
      "execution_count": 18,
      "metadata": {
        "colab": {
          "base_uri": "https://localhost:8080/"
        },
        "id": "b3uzq1fUlLkJ",
        "outputId": "7e604b97-95e7-47c2-de78-10ddc384ca31"
      },
      "outputs": [
        {
          "data": {
            "text/plain": [
              "(['ᠠ', 'ᠠᠷᠪᠠᠳᠤᠭᠠᠷ ᠵᠦᠢᠯ\\u202fᠤᠨ ᠡ'],\n",
              " ['<sos> ᠠ <eos>', '<sos> ᠠᠷᠪᠠᠳᠤᠭᠠᠷ ᠵᠦᠢᠯ\\u202fᠤᠨ ᠡ <eos>'])"
            ]
          },
          "execution_count": 18,
          "metadata": {},
          "output_type": "execute_result"
        }
      ],
      "source": [
        "train_preprocessed_target[:2], train_tagged_preprocessed_target[:2]"
      ]
    },
    {
      "cell_type": "markdown",
      "metadata": {
        "id": "nW_4afMAlczB"
      },
      "source": [
        "## Tokenizer"
      ]
    },
    {
      "cell_type": "markdown",
      "metadata": {
        "id": "vWywoGgAlVch"
      },
      "source": [
        "### /Tokenizer-ууд нь сургалтын үеэр таараагүй үгтэй таарюал тус үгийг <unk> аар сольно. Out of vocabulary token - oov_token/"
      ]
    },
    {
      "cell_type": "code",
      "execution_count": 19,
      "metadata": {
        "colab": {
          "base_uri": "https://localhost:8080/"
        },
        "id": "DShvZNQRlTJp",
        "outputId": "3f0fd3d5-8b73-441d-afb7-c1b83be1b0cf"
      },
      "outputs": [],
      "source": [
        "# source_tokenizer = tf.keras.preprocessing.text.Tokenizer(oov_token='<unk>', filters='\"#$%&()*+-/:;=@[\\\\]^_`{|}~\\t\\n')\n",
        "# source_tokenizer.fit_on_texts(train_preprocessed_input)\n",
        "# source_tokenizer.get_config()"
      ]
    },
    {
      "cell_type": "code",
      "execution_count": 20,
      "metadata": {},
      "outputs": [],
      "source": [
        "with open('tokenizers/source_tokenizer.json') as f:\n",
        "    data = json.load(f)\n",
        "    source_tokenizer = tf.keras.preprocessing.text.tokenizer_from_json(data)"
      ]
    },
    {
      "cell_type": "code",
      "execution_count": 21,
      "metadata": {
        "colab": {
          "base_uri": "https://localhost:8080/"
        },
        "id": "3uSJmx8-ljiq",
        "outputId": "ec101ff2-e29c-4e0b-a4fd-c912efceeb5c"
      },
      "outputs": [
        {
          "name": "stdout",
          "output_type": "stream",
          "text": [
            "59974\n"
          ]
        }
      ],
      "source": [
        "source_vocab_size = len(source_tokenizer.word_index) + 1\n",
        "print(source_vocab_size)"
      ]
    },
    {
      "cell_type": "code",
      "execution_count": 22,
      "metadata": {
        "colab": {
          "base_uri": "https://localhost:8080/"
        },
        "id": "d2UwN9o2llap",
        "outputId": "2854af7b-3f1e-416c-9797-c55e29defdad"
      },
      "outputs": [],
      "source": [
        "# target_tokenizer = tf.keras.preprocessing.text.Tokenizer(oov_token='<unk>', filters='\"#$%&()*+-/:;=@[\\\\]^_`{|}~\\t\\n')\n",
        "# target_tokenizer.fit_on_texts(train_tagged_preprocessed_target)\n",
        "# target_tokenizer.get_config()"
      ]
    },
    {
      "cell_type": "code",
      "execution_count": 23,
      "metadata": {},
      "outputs": [],
      "source": [
        "with open('tokenizers/target_tokenizer.json') as f:\n",
        "    data = json.load(f)\n",
        "    target_tokenizer = tf.keras.preprocessing.text.tokenizer_from_json(data)"
      ]
    },
    {
      "cell_type": "code",
      "execution_count": 24,
      "metadata": {
        "colab": {
          "base_uri": "https://localhost:8080/"
        },
        "id": "LpFrvYVtlmPa",
        "outputId": "cc26ebd4-4046-495a-dc2b-0da4fa76db04"
      },
      "outputs": [
        {
          "name": "stdout",
          "output_type": "stream",
          "text": [
            "71213\n"
          ]
        }
      ],
      "source": [
        "target_vocab_size = len(target_tokenizer.word_index) + 1\n",
        "print(target_vocab_size)"
      ]
    },
    {
      "cell_type": "code",
      "execution_count": 25,
      "metadata": {
        "id": "DAoM1DGklpwa"
      },
      "outputs": [],
      "source": [
        "train_encoder_inputs = source_tokenizer.texts_to_sequences(train_preprocessed_input)"
      ]
    },
    {
      "cell_type": "code",
      "execution_count": 26,
      "metadata": {
        "colab": {
          "base_uri": "https://localhost:8080/"
        },
        "id": "Qgiikz3Mlqyp",
        "outputId": "605a387e-e909-4b86-d98b-d49749b4b89c"
      },
      "outputs": [
        {
          "data": {
            "text/plain": [
              "([4183, 247, 1626, 21660, 151, 82, 4184, 1350],\n",
              " 'а үсэг эрдмийн дээж, аяга цай идээний дээж')"
            ]
          },
          "execution_count": 26,
          "metadata": {},
          "output_type": "execute_result"
        }
      ],
      "source": [
        "train_encoder_inputs[3], train_preprocessed_input[3]"
      ]
    },
    {
      "cell_type": "markdown",
      "metadata": {
        "id": "ejvBuOB_l1_f"
      },
      "source": [
        "### /Teacher Forcing хийхийн тулд векторчлогдсон зорилтот өгүүлбэр бүрийн хоёр хувийг үүсгэж, хоёр дахь хувийг нэгээр шилжүүлнэ./"
      ]
    },
    {
      "cell_type": "code",
      "execution_count": 27,
      "metadata": {
        "id": "nM25FCAUlyQa"
      },
      "outputs": [],
      "source": [
        "def generate_decoder_inputs_targets(sentences, tokenizer):\n",
        "  seqs = tokenizer.texts_to_sequences(sentences)\n",
        "  decoder_inputs = [s[:-1] for s in seqs] # Drop the last token in the sentence.\n",
        "  decoder_targets = [s[1:] for s in seqs] # Drop the first token in the sentence.\n",
        "\n",
        "  return decoder_inputs, decoder_targets"
      ]
    },
    {
      "cell_type": "code",
      "execution_count": 28,
      "metadata": {
        "id": "hfOpmsycl5sJ"
      },
      "outputs": [],
      "source": [
        "train_decoder_inputs, train_decoder_targets = generate_decoder_inputs_targets(train_tagged_preprocessed_target,\n",
        "                                                                              target_tokenizer)"
      ]
    },
    {
      "cell_type": "code",
      "execution_count": 29,
      "metadata": {
        "colab": {
          "base_uri": "https://localhost:8080/"
        },
        "id": "yMFc_LByl6m5",
        "outputId": "93121655-62a2-4fc0-f0ba-adec78f6bca5"
      },
      "outputs": [
        {
          "data": {
            "text/plain": [
              "([[2, 733], [2, 6335, 7942, 2447]], [[733, 3], [6335, 7942, 2447, 3]])"
            ]
          },
          "execution_count": 29,
          "metadata": {},
          "output_type": "execute_result"
        }
      ],
      "source": [
        "train_decoder_inputs[:2], train_decoder_targets[:2]"
      ]
    },
    {
      "cell_type": "code",
      "execution_count": 30,
      "metadata": {
        "colab": {
          "base_uri": "https://localhost:8080/"
        },
        "id": "ZdwrarlQmCq6",
        "outputId": "88e0f9ec-bde1-4dc9-c6dc-66f6210d5d01"
      },
      "outputs": [
        {
          "data": {
            "text/plain": [
              "27"
            ]
          },
          "execution_count": 30,
          "metadata": {},
          "output_type": "execute_result"
        }
      ],
      "source": [
        "# Encoder хэсгийн хамгийн урт оролт\n",
        "max_encoding_len = len(max(train_encoder_inputs, key=len))\n",
        "max_encoding_len"
      ]
    },
    {
      "cell_type": "code",
      "execution_count": 31,
      "metadata": {
        "colab": {
          "base_uri": "https://localhost:8080/"
        },
        "id": "GTtOMRzOmNop",
        "outputId": "f699de8f-1d90-41df-f46f-cf7a3e6de5a3"
      },
      "outputs": [
        {
          "data": {
            "text/plain": [
              "22"
            ]
          },
          "execution_count": 31,
          "metadata": {},
          "output_type": "execute_result"
        }
      ],
      "source": [
        "# Dencoder хэсгийн хамгийн урт оролт\n",
        "max_decoding_len = len(max(train_decoder_inputs, key=len))\n",
        "max_decoding_len"
      ]
    },
    {
      "cell_type": "code",
      "execution_count": 32,
      "metadata": {
        "id": "Zu0AuuUqnJZP"
      },
      "outputs": [],
      "source": [
        "padded_train_encoder_inputs = pad_sequences(train_encoder_inputs, max_encoding_len, padding='post', truncating='post')\n",
        "padded_train_decoder_inputs = pad_sequences(train_decoder_inputs, max_decoding_len, padding='post', truncating='post')\n",
        "padded_train_decoder_targets = pad_sequences(train_decoder_targets, max_decoding_len, padding='post', truncating='post')"
      ]
    },
    {
      "cell_type": "markdown",
      "metadata": {
        "id": "QBVFTLyymYZX"
      },
      "source": [
        "Validation дата preprocess"
      ]
    },
    {
      "cell_type": "code",
      "execution_count": 33,
      "metadata": {
        "id": "T5rvktDGmRmp"
      },
      "outputs": [],
      "source": [
        "def process_dataset(dataset):\n",
        "\n",
        "  input, output = map(list, zip(*[pair.split(SEPARATOR) for pair in dataset]))\n",
        "\n",
        "  preprocessed_input = [preprocess_sentence(s) for s in input]\n",
        "  preprocessed_output = [preprocess_sentence(s) for s in output]\n",
        "\n",
        "  tagged_preprocessed_output = tag_target_sentences(preprocessed_output)\n",
        "\n",
        "  encoder_inputs = source_tokenizer.texts_to_sequences(preprocessed_input)\n",
        "\n",
        "  decoder_inputs, decoder_targets = generate_decoder_inputs_targets(tagged_preprocessed_output,\n",
        "                                                                    target_tokenizer)\n",
        "\n",
        "  padded_encoder_inputs = pad_sequences(encoder_inputs, max_encoding_len, padding='post', truncating='post')\n",
        "  padded_decoder_inputs = pad_sequences(decoder_inputs, max_decoding_len, padding='post', truncating='post')\n",
        "  padded_decoder_targets = pad_sequences(decoder_targets, max_decoding_len, padding='post', truncating='post')\n",
        "\n",
        "  return padded_encoder_inputs, padded_decoder_inputs, padded_decoder_targets\n"
      ]
    },
    {
      "cell_type": "code",
      "execution_count": 34,
      "metadata": {
        "id": "X4AumbpImc5a"
      },
      "outputs": [],
      "source": [
        "#validation data\n",
        "padded_val_encoder_inputs, padded_val_decoder_inputs, padded_val_decoder_targets = process_dataset(val_data)"
      ]
    },
    {
      "cell_type": "code",
      "execution_count": 35,
      "metadata": {
        "id": "UMYaUSgymeoa"
      },
      "outputs": [],
      "source": [
        "embedding_dim = 128\n",
        "hidden_dim = 256\n",
        "default_dropout=0.02\n",
        "batch_size = 40\n",
        "epochs = 18"
      ]
    },
    {
      "cell_type": "markdown",
      "metadata": {
        "id": "Lk2Fundsmq5r"
      },
      "source": [
        "##Recurrence-based Seq2Seq Neural Machine Translation WITH Luong Attention <br>\n",
        "##### https://www.tensorflow.org/api_docs/python/tf/keras/Model <br>\n",
        "##### https://www.tensorflow.org/guide/keras/custom_layers_and_models <br>\n",
        "##### Байгуулагч функц дээр давхаргуудаа үүсгэнэ."
      ]
    },
    {
      "cell_type": "code",
      "execution_count": 36,
      "metadata": {
        "id": "6reQnvg_mjwJ"
      },
      "outputs": [],
      "source": [
        "class Encoder(tf.keras.Model):\n",
        "    def __init__(self, vocab_size, embedding_dim, hidden_dim):\n",
        "        super(Encoder, self).__init__()\n",
        "\n",
        "        # masking хийхгүй\n",
        "        self.embedding = layers.Embedding(source_vocab_size,\n",
        "                                          embedding_dim,\n",
        "                                          name='encoder_embedding_layer')\n",
        "\n",
        "        # return_sequences true болгосноор алхам бүрт hidden_state бий болгож\n",
        "        # үүнийгээ attention-д ашиглана\n",
        "        self.lstm = layers.LSTM(hidden_dim,\n",
        "                                return_sequences=True,\n",
        "                                return_state=True,\n",
        "                                name='encoder_lstm')\n",
        "\n",
        "    def call(self, input):\n",
        "        embeddings = self.embedding(input)\n",
        "\n",
        "        # output_seq нь алхам бүрийн encoder-ийн далд төлөвийг хадгална.\n",
        "        output_seq, state_h, state_c = self.lstm(embeddings)\n",
        "\n",
        "        return output_seq, state_h, state_c"
      ]
    },
    {
      "cell_type": "code",
      "execution_count": 37,
      "metadata": {
        "id": "v2mLhaoQm4Uq"
      },
      "outputs": [],
      "source": [
        "test_encoder = Encoder(source_vocab_size, embedding_dim, hidden_dim)"
      ]
    },
    {
      "cell_type": "code",
      "execution_count": 38,
      "metadata": {
        "colab": {
          "base_uri": "https://localhost:8080/"
        },
        "id": "iVvgLBUQm6BJ",
        "outputId": "ca6bb0c1-ccfb-46c8-d903-0911957c1959"
      },
      "outputs": [
        {
          "name": "stdout",
          "output_type": "stream",
          "text": [
            "(3, 27)\n"
          ]
        },
        {
          "data": {
            "text/plain": [
              "array([[ 4183,     0,     0,     0,     0,     0,     0,     0,     0,\n",
              "            0,     0,     0,     0,     0,     0,     0,     0,     0,\n",
              "            0,     0,     0,     0,     0,     0,     0,     0,     0],\n",
              "       [ 6797, 11031,  4183,     0,     0,     0,     0,     0,     0,\n",
              "            0,     0,     0,     0,     0,     0,     0,     0,     0,\n",
              "            0,     0,     0,     0,     0,     0,     0,     0,     0],\n",
              "       [11032,  4183,   207,     0,     0,     0,     0,     0,     0,\n",
              "            0,     0,     0,     0,     0,     0,     0,     0,     0,\n",
              "            0,     0,     0,     0,     0,     0,     0,     0,     0]])"
            ]
          },
          "execution_count": 38,
          "metadata": {},
          "output_type": "execute_result"
        }
      ],
      "source": [
        "test_encoder_batch = padded_train_encoder_inputs[:3]\n",
        "print(test_encoder_batch.shape)\n",
        "test_encoder_batch"
      ]
    },
    {
      "cell_type": "code",
      "execution_count": 39,
      "metadata": {
        "id": "jSmLcY7hm8hZ"
      },
      "outputs": [],
      "source": [
        "test_encoder_outputs, state_h, state_c = test_encoder(test_encoder_batch)"
      ]
    },
    {
      "cell_type": "code",
      "execution_count": 40,
      "metadata": {
        "colab": {
          "base_uri": "https://localhost:8080/"
        },
        "id": "2z8y0leinWs6",
        "outputId": "1f7ddd07-d1ea-4e12-cb69-74c86f3cfb6b"
      },
      "outputs": [
        {
          "name": "stdout",
          "output_type": "stream",
          "text": [
            "(3, 27, 256)\n",
            "(3, 256)\n",
            "(3, 256)\n"
          ]
        }
      ],
      "source": [
        "print(test_encoder_outputs.shape)\n",
        "print(state_h.shape)\n",
        "print(state_c.shape)"
      ]
    },
    {
      "cell_type": "markdown",
      "metadata": {
        "id": "XXA_X7WNnkWy"
      },
      "source": [
        "### Attention"
      ]
    },
    {
      "cell_type": "markdown",
      "metadata": {
        "id": "6o2U0tX9rapA"
      },
      "source": [
        "Оролтын хувьд анхаарлын анги нь кодлогчийн бүх далд төлөв болон одоогийн декодерын далд төлөвийг авдаг. Гаралтын хувьд энэ нь attention weight болон контекст векторыг буцаана."
      ]
    },
    {
      "cell_type": "code",
      "execution_count": 41,
      "metadata": {
        "id": "tgWxEASDnZgJ"
      },
      "outputs": [],
      "source": [
        "class LuongAttention(tf.keras.Model):\n",
        "  def __init__(self, hidden_dim):\n",
        "    super(LuongAttention, self).__init__()\n",
        "\n",
        "    self.w = layers.Dense(hidden_dim, name='encoder_outputs_dense')\n",
        "\n",
        "  def call(self, inputs):\n",
        "    encoder_output_seq, decoder_output = inputs\n",
        "    z = self.w(encoder_output_seq)\n",
        "    attention_scores = tf.matmul(decoder_output, z, transpose_b=True)\n",
        "    attention_weights = tf.keras.activations.softmax(attention_scores, axis=-1)\n",
        "    context = tf.matmul(attention_weights, encoder_output_seq)\n",
        "\n",
        "    return attention_weights, context\n"
      ]
    },
    {
      "cell_type": "markdown",
      "metadata": {
        "id": "l3xClLUirXRe"
      },
      "source": [
        "Декодер нь дараахаас бусад тохиолдолд ихэвчлэн ижил хэвээр байна:\n",
        "\n",
        "Оруулсан давхаргад маск байхгүй.\n",
        "Урсгалд анхаарал хандуулах нэмэлт алхам бий.\n",
        "Контекст ба декодчилогчийн гаралтын вектор нь нягт w давхаргаар дамждаг\n",
        "Эцсийн нягт давхаргад softmax идэвхжүүлэлт байхгүй. Харин бид алдагдлыг ложит дээр шууд тооцох болно.\n",
        "Оролтын хувьд декодер нь дараахь зүйлийг хүлээн авдаг.\n",
        "\n",
        "одоогийн алхамын токен(ууд). Teacher Forcing сургалтын үеэр энэ нь дараагийн хүлээгдэж буй токен(ууд) байх болно. Дүгнэлт хийх явцад энэ нь сүүлийн үеийн алхамаас үүссэн токен(ууд) байх болно.\n",
        "кодлогчийн бүх далд төлөвүүд.\n",
        "Декодер нь юу ч байсан түүнийг одоогийн далд болон эсийн төлөв болгон авах ёстой.\n",
        "Сүүлийн LSTM далд болон эсийн төлөвүүд."
      ]
    },
    {
      "cell_type": "code",
      "execution_count": 42,
      "metadata": {
        "id": "8Bm34WMcnmnZ"
      },
      "outputs": [],
      "source": [
        "class Decoder(tf.keras.Model):\n",
        "  def __init__(self, vocab_size, embedding_dim, hidden_dim):\n",
        "    super(Decoder, self).__init__()\n",
        "\n",
        "    self.embedding_layer = layers.Embedding(vocab_size,\n",
        "                                            embedding_dim,\n",
        "                                            name='decoder_embedding_layer')\n",
        "\n",
        "    self.lstm = layers.LSTM(hidden_dim,\n",
        "                            return_sequences=True,\n",
        "                            return_state=True,\n",
        "                            name='decoder_lstm')\n",
        "\n",
        "    self.attention = LuongAttention(hidden_dim)\n",
        "\n",
        "    self.w = tf.keras.layers.Dense(hidden_dim, activation='tanh', name='attended_outputs_dense')\n",
        "\n",
        "    self.dense = layers.Dense(vocab_size, name='decoder_dense')\n",
        "\n",
        "\n",
        "  def call(self, inputs):\n",
        "    decoder_input, encoder_output_seq, lstm_state = inputs\n",
        "    embeddings = self.embedding_layer(decoder_input)\n",
        "\n",
        "    decoder_output, state_h, state_c = self.lstm(embeddings, initial_state=lstm_state)\n",
        "\n",
        "    weights, context = self.attention([encoder_output_seq, decoder_output])\n",
        "\n",
        "    decoder_output_with_attention = self.w(tf.concat(\n",
        "        [tf.squeeze(context, 1), tf.squeeze(decoder_output, 1)], -1))\n",
        "\n",
        "    logits = self.dense(decoder_output_with_attention)\n",
        "\n",
        "    return logits, state_h, state_c, weights"
      ]
    },
    {
      "cell_type": "code",
      "execution_count": 43,
      "metadata": {
        "id": "GxFRmGb4nsMr"
      },
      "outputs": [],
      "source": [
        "test_decoder = Decoder(target_vocab_size, embedding_dim, hidden_dim)"
      ]
    },
    {
      "cell_type": "code",
      "execution_count": 44,
      "metadata": {
        "colab": {
          "base_uri": "https://localhost:8080/"
        },
        "id": "CmRnWu5ont06",
        "outputId": "4fce0132-2eea-4de1-9737-f6e9a3994b75"
      },
      "outputs": [
        {
          "name": "stdout",
          "output_type": "stream",
          "text": [
            "(3, 22)\n"
          ]
        },
        {
          "data": {
            "text/plain": [
              "array([[    2,   733,     0,     0,     0,     0,     0,     0,     0,\n",
              "            0,     0,     0,     0,     0,     0,     0,     0,     0,\n",
              "            0,     0,     0,     0],\n",
              "       [    2,  6335,  7942,  2447,     0,     0,     0,     0,     0,\n",
              "            0,     0,     0,     0,     0,     0,     0,     0,     0,\n",
              "            0,     0,     0,     0],\n",
              "       [    2, 10583,  2447,   793,     0,     0,     0,     0,     0,\n",
              "            0,     0,     0,     0,     0,     0,     0,     0,     0,\n",
              "            0,     0,     0,     0]])"
            ]
          },
          "execution_count": 44,
          "metadata": {},
          "output_type": "execute_result"
        }
      ],
      "source": [
        "test_decoder_batch = padded_train_decoder_inputs[:3]\n",
        "print(test_decoder_batch.shape)\n",
        "test_decoder_batch"
      ]
    },
    {
      "cell_type": "code",
      "execution_count": 45,
      "metadata": {
        "colab": {
          "base_uri": "https://localhost:8080/"
        },
        "id": "BM4RjomQn3xU",
        "outputId": "6f5762f3-c822-43b4-90eb-8a32c071171f"
      },
      "outputs": [
        {
          "data": {
            "text/plain": [
              "<tf.Tensor: shape=(3, 1), dtype=int32, numpy=\n",
              "array([[  733],\n",
              "       [ 6335],\n",
              "       [10583]])>"
            ]
          },
          "execution_count": 45,
          "metadata": {},
          "output_type": "execute_result"
        }
      ],
      "source": [
        "next_decoder_inputs = tf.expand_dims(test_decoder_batch[:, 1], 1)\n",
        "next_decoder_inputs"
      ]
    },
    {
      "cell_type": "code",
      "execution_count": 46,
      "metadata": {
        "id": "lEMdax9lnvVa"
      },
      "outputs": [],
      "source": [
        "# Initial values for state_h and state_c are from the encoder.\n",
        "test_decoder_logits, state_h, state_c, test_decoder_weights = test_decoder(\n",
        "    [\n",
        "      next_decoder_inputs,\n",
        "      test_encoder_outputs,\n",
        "      [state_h, state_c]\n",
        "    ])"
      ]
    },
    {
      "cell_type": "markdown",
      "metadata": {
        "id": "UFyGF1TRrg6g"
      },
      "source": [
        "https://www.tensorflow.org/api_docs/python/tf/keras/losses/SparseCategoricalCrossentropy"
      ]
    },
    {
      "cell_type": "code",
      "execution_count": 47,
      "metadata": {
        "id": "-AKqvLjVnziq"
      },
      "outputs": [],
      "source": [
        "def loss_func(targets, logits):\n",
        "  ce_loss = tf.keras.losses.SparseCategoricalCrossentropy(from_logits=True)\n",
        "\n",
        "  mask = tf.cast(tf.math.not_equal(targets, 0), tf.float32)\n",
        "\n",
        "  return ce_loss(targets, logits, sample_weight=mask)"
      ]
    },
    {
      "cell_type": "code",
      "execution_count": 48,
      "metadata": {
        "id": "Pb6geACdn7Oa"
      },
      "outputs": [],
      "source": [
        "dataset = tf.data.Dataset.from_tensor_slices((padded_train_encoder_inputs,\n",
        "                                              padded_train_decoder_inputs,\n",
        "                                              padded_train_decoder_targets)).batch(batch_size, drop_remainder=True)"
      ]
    },
    {
      "cell_type": "markdown",
      "metadata": {
        "id": "W7CsgYtWrkY-"
      },
      "source": [
        "\n",
        "https://www.tensorflow.org/guide/keras/customizing_what_happens_in_fit\n",
        " https://www.tensorflow.org/api_docs/python/tf/GradientTape\n",
        "https://www.tensorflow.org/guide/autodiff\n",
        "\n",
        "https://www.tensorflow.org/api_docs/python/tf/function\n",
        "https://www.tensorflow.org/guide/function"
      ]
    },
    {
      "cell_type": "code",
      "execution_count": 49,
      "metadata": {
        "id": "zeegYevbn-fp"
      },
      "outputs": [],
      "source": [
        "class TranslatorTrainer(tf.keras.Model):\n",
        "  def __init__(self, encoder, decoder):\n",
        "    super(TranslatorTrainer, self).__init__()\n",
        "\n",
        "    self.encoder = encoder\n",
        "    self.decoder = decoder\n",
        "\n",
        "  # This method will be called by model.fit for each batch.\n",
        "  @tf.function\n",
        "  def train_step(self, inputs):\n",
        "      loss = 0.\n",
        "\n",
        "      encoder_input_seq, decoder_input_seq, decoder_target_seq = inputs\n",
        "\n",
        "      with tf.GradientTape() as tape:\n",
        "          encoder_output_seq, state_h, state_c = self.encoder(encoder_input_seq)\n",
        "\n",
        "          # We need to create a loop to iterate through the target sequences\n",
        "          for i in range(decoder_target_seq.shape[1]):\n",
        "\n",
        "              # Input to the decoder must have shape of (batch_size, length)\n",
        "              # so we need to expand one dimension (just like in the previous example).\n",
        "              next_decoder_input = tf.expand_dims(decoder_input_seq[:, i], 1)\n",
        "              logits, state_h, state_c, _ = self.decoder(\n",
        "                  [next_decoder_input, encoder_output_seq, (state_h, state_c)])\n",
        "\n",
        "              # The loss is now accumulated through the whole batch\n",
        "              loss += self.loss(decoder_target_seq[:, i], logits)\n",
        "\n",
        "      # Update the parameters and the optimizer\n",
        "      variables = encoder.trainable_variables + decoder.trainable_variables\n",
        "      gradients = tape.gradient(loss, variables)\n",
        "      self.optimizer.apply_gradients(zip(gradients, variables))\n",
        "\n",
        "      return {'loss': loss / decoder_target_seq.shape[1]}"
      ]
    },
    {
      "cell_type": "code",
      "execution_count": 50,
      "metadata": {
        "id": "ZhXfJr-poDyq"
      },
      "outputs": [],
      "source": [
        "encoder = Encoder(source_vocab_size, embedding_dim, hidden_dim)\n",
        "decoder = Decoder(target_vocab_size, embedding_dim, hidden_dim)\n",
        "optimizer = tf.keras.optimizers.Adam()\n",
        "\n",
        "translator_trainer = TranslatorTrainer(encoder, decoder)\n",
        "translator_trainer.compile(optimizer=optimizer, loss=loss_func)"
      ]
    },
    {
      "cell_type": "code",
      "execution_count": 51,
      "metadata": {
        "id": "V6qyag0ZC8V8"
      },
      "outputs": [],
      "source": [
        "# translator_trainer.compile(optimizer='adam', loss='categorical_crossentropy', metrics=['accuracy'])"
      ]
    },
    {
      "cell_type": "code",
      "execution_count": 52,
      "metadata": {
        "colab": {
          "base_uri": "https://localhost:8080/"
        },
        "id": "9AbW7H91oFEZ",
        "outputId": "40073203-1a38-449c-a687-306358a63b7c"
      },
      "outputs": [],
      "source": [
        "# history = translator_trainer.fit(dataset, epochs=15)"
      ]
    },
    {
      "cell_type": "markdown",
      "metadata": {},
      "source": [
        "### Токенайзер, history болон encoder, decoder weight үүдийг хадгалах"
      ]
    },
    {
      "cell_type": "code",
      "execution_count": 53,
      "metadata": {},
      "outputs": [],
      "source": [
        "# source_tokenizer_json = source_tokenizer.to_json()\n",
        "# with io.open('source_tokenizer.json', 'w', encoding='utf-8') as f:\n",
        "#   f.write(json.dumps(source_tokenizer_json, ensure_ascii=False))\n",
        "\n",
        "# target_tokenizer_json = target_tokenizer.to_json()\n",
        "# with io.open('target_tokenizer.json', 'w', encoding='utf-8') as f:\n",
        "#   f.write(json.dumps(target_tokenizer_json, ensure_ascii=False))"
      ]
    },
    {
      "cell_type": "code",
      "execution_count": 54,
      "metadata": {
        "id": "9TiITnqloIxb"
      },
      "outputs": [],
      "source": [
        "# encoder.save_weights('attention_weights/attention_encoder_weights_with_dropout_ckpt')\n",
        "# decoder.save_weights('attention_weights/attention_decoder_weights_with_dropout_ckpt')"
      ]
    },
    {
      "cell_type": "code",
      "execution_count": 55,
      "metadata": {},
      "outputs": [
        {
          "data": {
            "text/plain": [
              "<tensorflow.python.checkpoint.checkpoint.CheckpointLoadStatus at 0x208f82e0d50>"
            ]
          },
          "execution_count": 55,
          "metadata": {},
          "output_type": "execute_result"
        }
      ],
      "source": [
        "encoder.load_weights('attention_weights/attention_encoder_weights_with_dropout_ckpt')\n",
        "decoder.load_weights('attention_weights/attention_decoder_weights_with_dropout_ckpt')"
      ]
    },
    {
      "cell_type": "code",
      "execution_count": 56,
      "metadata": {},
      "outputs": [],
      "source": [
        "# import json\n",
        "# # Save the history in a JSON file\n",
        "# history_path = 'history.json'\n",
        "# with open(history_path, 'w') as file:\n",
        "#     json.dump(history.history, file)"
      ]
    },
    {
      "cell_type": "code",
      "execution_count": 57,
      "metadata": {},
      "outputs": [],
      "source": [
        "import json\n",
        "\n",
        "history_path = 'history.json'\n",
        "with open(history_path, 'r') as file:\n",
        "    loaded_history = json.load(file)"
      ]
    },
    {
      "cell_type": "code",
      "execution_count": 58,
      "metadata": {
        "id": "X_5bCtjZrvPL"
      },
      "outputs": [],
      "source": [
        "def translate_with_attention(sentence: str,\n",
        "                             source_tokenizer, encoder,\n",
        "                             target_tokenizer, decoder,\n",
        "                             max_translated_len = 30):\n",
        "    input_seq = source_tokenizer.texts_to_sequences([sentence])\n",
        "    tokenized = source_tokenizer.sequences_to_texts(input_seq)\n",
        "\n",
        "    input_seq = pad_sequences(input_seq, maxlen=max_encoding_len, padding='post')\n",
        "    encoder_output, state_h, state_c  = encoder.predict(input_seq)\n",
        "\n",
        "    current_word = '<sos>'\n",
        "    decoded_sentence = []\n",
        "\n",
        "    while len(decoded_sentence) < max_translated_len:\n",
        "        target_seq = np.zeros((1,1))\n",
        "        target_seq[0, 0] = target_tokenizer.word_index[current_word]\n",
        "\n",
        "        logits, state_h, state_c, _ = decoder.predict([target_seq, encoder_output, (state_h, state_c)])\n",
        "        current_token_index = np.argmax(logits[0])\n",
        "\n",
        "        current_word = target_tokenizer.index_word[current_token_index]\n",
        "\n",
        "        if (current_word == '<eos>'):\n",
        "          break\n",
        "\n",
        "        decoded_sentence.append(current_word)\n",
        "\n",
        "    return tokenized[0], ' '.join(decoded_sentence)"
      ]
    },
    {
      "cell_type": "code",
      "execution_count": 59,
      "metadata": {
        "id": "2QlAw3Ty7qFt"
      },
      "outputs": [],
      "source": [
        "def translate_sentences(sentences, translation_func, source_tokenizer, encoder,\n",
        "                        target_tokenizer, decoder):\n",
        "  translations = {'Tokenized Original': [], 'Reference': [], 'Translation': []}\n",
        "\n",
        "  for s in sentences:\n",
        "    source, target = s.split(SEPARATOR)\n",
        "    source = preprocess_sentence(source)\n",
        "    tokenized_sentence, translated = translation_func(source, source_tokenizer, encoder,\n",
        "                                                      target_tokenizer, decoder)\n",
        "\n",
        "    translations['Tokenized Original'].append(tokenized_sentence)\n",
        "    translations['Reference'].append(target)\n",
        "    translations['Translation'].append(translated)\n",
        "\n",
        "  return translations"
      ]
    },
    {
      "cell_type": "code",
      "execution_count": null,
      "metadata": {},
      "outputs": [],
      "source": []
    },
    {
      "cell_type": "code",
      "execution_count": 64,
      "metadata": {
        "colab": {
          "base_uri": "https://localhost:8080/"
        },
        "id": "bcxpN7Rx-ilP",
        "outputId": "c1cbf9ee-bc2e-4877-9b58-d27546dcf5e6"
      },
      "outputs": [
        {
          "data": {
            "text/plain": [
              "['байх аа<sep>ᠪᠠᠢᠢᠬᠤ\\u202fᠠ᠋',\n",
              " 'сахлын будаа<sep>ᠰᠠᠬᠠᠯ\\u202fᠤᠨ ᠪᠤᠳᠠᠭ᠋\\u202fᠠ',\n",
              " 'байнга хэмжигдэхүүн<sep>ᠪᠠᠶᠢᠩᠭᠤ ᠬᠡᠮᠵᠢᠭᠳᠡᠬᠦᠨ',\n",
              " 'байнга хэрэглэгдэх үгс<sep>ᠪᠠᠶᠢᠩᠭᠤ ᠬᠡᠷᠡᠭᠯᠡᠭᠳᠡᠬᠦ ᠦᠭᠡᠰ',\n",
              " 'байнга хөрөнгө<sep>ᠪᠠᠶᠢᠩᠭᠤ ᠬᠥᠷᠦᠩᠭᠡ']"
            ]
          },
          "execution_count": 64,
          "metadata": {},
          "output_type": "execute_result"
        }
      ],
      "source": [
        "sentences_lists = test_data[80:85].copy()\n",
        "sentences = list(map(lambda each_list: each_list.lower().strip(), sentences_lists))\n",
        "sentences"
      ]
    },
    {
      "cell_type": "markdown",
      "metadata": {},
      "source": [
        "### Training Loss"
      ]
    },
    {
      "cell_type": "code",
      "execution_count": 61,
      "metadata": {},
      "outputs": [
        {
          "data": {
            "image/png": "[encoded data removed]",
            "text/plain": [
              "<Figure size 640x480 with 1 Axes>"
            ]
          },
          "metadata": {},
          "output_type": "display_data"
        }
      ],
      "source": [
        "import matplotlib.pyplot as plt\n",
        "\n",
        "# Plot training loss\n",
        "plt.plot(loaded_history['loss'], label='train_loss')\n",
        "\n",
        "plt.xlabel('Epoch')\n",
        "plt.ylabel('Loss')\n",
        "plt.legend()\n",
        "plt.show()"
      ]
    },
    {
      "cell_type": "code",
      "execution_count": 65,
      "metadata": {
        "colab": {
          "base_uri": "https://localhost:8080/"
        },
        "id": "Cl6bjHkPrx96",
        "outputId": "d6d5c442-ebb7-436e-fa5e-b4d50fac0aa0"
      },
      "outputs": [
        {
          "name": "stdout",
          "output_type": "stream",
          "text": [
            "1/1 [==============================] - 0s 14ms/step\n",
            "1/1 [==============================] - 0s 19ms/step\n",
            "1/1 [==============================] - 0s 18ms/step\n",
            "1/1 [==============================] - 0s 18ms/step\n",
            "1/1 [==============================] - 0s 14ms/step\n",
            "1/1 [==============================] - 0s 19ms/step\n",
            "1/1 [==============================] - 0s 19ms/step\n",
            "1/1 [==============================] - 0s 17ms/step\n",
            "1/1 [==============================] - 0s 13ms/step\n",
            "1/1 [==============================] - 0s 18ms/step\n",
            "1/1 [==============================] - 0s 18ms/step\n",
            "1/1 [==============================] - 0s 17ms/step\n",
            "1/1 [==============================] - 0s 13ms/step\n",
            "1/1 [==============================] - 0s 18ms/step\n",
            "1/1 [==============================] - 0s 17ms/step\n",
            "1/1 [==============================] - 0s 17ms/step\n",
            "1/1 [==============================] - 0s 18ms/step\n",
            "1/1 [==============================] - 0s 13ms/step\n",
            "1/1 [==============================] - 0s 17ms/step\n",
            "1/1 [==============================] - 0s 19ms/step\n",
            "1/1 [==============================] - 0s 17ms/step\n"
          ]
        }
      ],
      "source": [
        "shorter_translations_w_attention = pd.DataFrame(translate_sentences(sentences, translate_with_attention,\n",
        "                                                                    source_tokenizer, encoder,\n",
        "                                                                    target_tokenizer, decoder))"
      ]
    },
    {
      "cell_type": "code",
      "execution_count": 66,
      "metadata": {
        "colab": {
          "base_uri": "https://localhost:8080/",
          "height": 206
        },
        "id": "IlC_OU_q_BlL",
        "outputId": "b8746210-64d9-4815-f983-c76302a8afd2"
      },
      "outputs": [
        {
          "data": {
            "text/html": [
              "<div>\n",
              "<style scoped>\n",
              "    .dataframe tbody tr th:only-of-type {\n",
              "        vertical-align: middle;\n",
              "    }\n",
              "\n",
              "    .dataframe tbody tr th {\n",
              "        vertical-align: top;\n",
              "    }\n",
              "\n",
              "    .dataframe thead th {\n",
              "        text-align: right;\n",
              "    }\n",
              "</style>\n",
              "<table border=\"1\" class=\"dataframe\">\n",
              "  <thead>\n",
              "    <tr style=\"text-align: right;\">\n",
              "      <th></th>\n",
              "      <th>Tokenized Original</th>\n",
              "      <th>Reference</th>\n",
              "      <th>Translation</th>\n",
              "    </tr>\n",
              "  </thead>\n",
              "  <tbody>\n",
              "    <tr>\n",
              "      <th>0</th>\n",
              "      <td>байх аа</td>\n",
              "      <td>ᠪᠠᠢᠢᠬᠤ ᠠ᠋</td>\n",
              "      <td>ᠪᠠᠢᠬᠤ ᠲᠤᠯᠠ</td>\n",
              "    </tr>\n",
              "    <tr>\n",
              "      <th>1</th>\n",
              "      <td>сахлын будаа</td>\n",
              "      <td>ᠰᠠᠬᠠᠯ ᠤᠨ ᠪᠤᠳᠠᠭ᠋ ᠠ</td>\n",
              "      <td>ᠬᠠᠭ᠍ ᠠ ᠪᠤᠳᠠᠭ᠍ ᠠ</td>\n",
              "    </tr>\n",
              "    <tr>\n",
              "      <th>2</th>\n",
              "      <td>байнга хэмжигдэхүүн</td>\n",
              "      <td>ᠪᠠᠶᠢᠩᠭᠤ ᠬᠡᠮᠵᠢᠭᠳᠡᠬᠦᠨ</td>\n",
              "      <td>ᠪᠥᠭᠡᠯᠵᠢᠬᠦ ᠬᠡᠮᠵᠢᠭᠳᠡᠬᠦᠨ</td>\n",
              "    </tr>\n",
              "    <tr>\n",
              "      <th>3</th>\n",
              "      <td>байнга хэрэглэгдэх үгс</td>\n",
              "      <td>ᠪᠠᠶᠢᠩᠭᠤ ᠬᠡᠷᠡᠭᠯᠡᠭᠳᠡᠬᠦ ᠦᠭᠡᠰ</td>\n",
              "      <td>ᠴᠤᠯ ᠣᠷᠤᠯᠠᠬᠤ ᠭᠡᠰᠡᠨ</td>\n",
              "    </tr>\n",
              "    <tr>\n",
              "      <th>4</th>\n",
              "      <td>байнга хөрөнгө</td>\n",
              "      <td>ᠪᠠᠶᠢᠩᠭᠤ ᠬᠥᠷᠦᠩᠭᠡ</td>\n",
              "      <td>ᠴᠤᠯ ᠬᠥᠷᠦᠨᠭ᠍ᠭᠡ</td>\n",
              "    </tr>\n",
              "  </tbody>\n",
              "</table>\n",
              "</div>"
            ],
            "text/plain": [
              "       Tokenized Original                  Reference            Translation\n",
              "0                 байх аа                  ᠪᠠᠢᠢᠬᠤ ᠠ᠋             ᠪᠠᠢᠬᠤ ᠲᠤᠯᠠ\n",
              "1            сахлын будаа          ᠰᠠᠬᠠᠯ ᠤᠨ ᠪᠤᠳᠠᠭ᠋ ᠠ        ᠬᠠᠭ᠍ ᠠ ᠪᠤᠳᠠᠭ᠍ ᠠ\n",
              "2     байнга хэмжигдэхүүн        ᠪᠠᠶᠢᠩᠭᠤ ᠬᠡᠮᠵᠢᠭᠳᠡᠬᠦᠨ  ᠪᠥᠭᠡᠯᠵᠢᠬᠦ ᠬᠡᠮᠵᠢᠭᠳᠡᠬᠦᠨ\n",
              "3  байнга хэрэглэгдэх үгс  ᠪᠠᠶᠢᠩᠭᠤ ᠬᠡᠷᠡᠭᠯᠡᠭᠳᠡᠬᠦ ᠦᠭᠡᠰ      ᠴᠤᠯ ᠣᠷᠤᠯᠠᠬᠤ ᠭᠡᠰᠡᠨ\n",
              "4          байнга хөрөнгө            ᠪᠠᠶᠢᠩᠭᠤ ᠬᠥᠷᠦᠩᠭᠡ          ᠴᠤᠯ ᠬᠥᠷᠦᠨᠭ᠍ᠭᠡ"
            ]
          },
          "execution_count": 66,
          "metadata": {},
          "output_type": "execute_result"
        }
      ],
      "source": [
        "shorter_translations_w_attention"
      ]
    }
  ],
  "metadata": {
    "accelerator": "GPU",
    "colab": {
      "gpuType": "T4",
      "provenance": []
    },
    "kernelspec": {
      "display_name": "Python 3",
      "name": "python3"
    },
    "language_info": {
      "codemirror_mode": {
        "name": "ipython",
        "version": 3
      },
      "file_extension": ".py",
      "mimetype": "text/x-python",
      "name": "python",
      "nbconvert_exporter": "python",
      "pygments_lexer": "ipython3",
      "version": "3.11.4"
    }
  },
  "nbformat": 4,
  "nbformat_minor": 0
}
